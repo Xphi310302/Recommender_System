{
  "nbformat": 4,
  "nbformat_minor": 0,
  "metadata": {
    "colab": {
      "provenance": [],
      "mount_file_id": "16_4tZGVyJdvKono9-eJ8xG362Q5R5r97",
      "authorship_tag": "ABX9TyOQtG/GICiSpt6DwOibJNrI",
      "include_colab_link": true
    },
    "kernelspec": {
      "name": "python3",
      "display_name": "Python 3"
    },
    "language_info": {
      "name": "python"
    }
  },
  "cells": [
    {
      "cell_type": "markdown",
      "metadata": {
        "id": "view-in-github",
        "colab_type": "text"
      },
      "source": [
        "<a href=\"https://colab.research.google.com/github/Xphi310302/Recommender_System/blob/main/Demographic_Content_based_Recommender.ipynb\" target=\"_parent\"><img src=\"https://colab.research.google.com/assets/colab-badge.svg\" alt=\"Open In Colab\"/></a>"
      ]
    },
    {
      "cell_type": "markdown",
      "source": [
        "# Load data"
      ],
      "metadata": {
        "id": "sLSVZeWlhZG9"
      }
    },
    {
      "cell_type": "code",
      "source": [
        "import pandas as pd\n",
        "import numpy as np\n",
        "import json\n",
        "import matplotlib.pyplot as plt\n",
        "import seaborn as sns"
      ],
      "metadata": {
        "id": "UoOJgfXbl_Uz"
      },
      "execution_count": 1,
      "outputs": []
    },
    {
      "cell_type": "code",
      "execution_count": 2,
      "metadata": {
        "id": "7LgcSfvAblIP"
      },
      "outputs": [],
      "source": [
        "# Opening JSON file\n",
        "f = open('/content/drive/MyDrive/Recommender_System/data/11000.json')\n",
        "# returns JSON object as  a dictionary\n",
        "data = json.load(f)\n",
        "data = pd.DataFrame(data)\n",
        "data1 = data.copy()"
      ]
    },
    {
      "cell_type": "code",
      "source": [
        "data = data.copy()[['id','title','likeCount', 'viewCount', 'commentCount', 'verified','username','category']]\n",
        "data.head()"
      ],
      "metadata": {
        "colab": {
          "base_uri": "https://localhost:8080/",
          "height": 206
        },
        "id": "ak5YcFC0faQS",
        "outputId": "da173a39-b396-42e3-8dba-14e1fb354468"
      },
      "execution_count": 3,
      "outputs": [
        {
          "output_type": "execute_result",
          "data": {
            "text/plain": [
              "            id                                              title  likeCount  \\\n",
              "0  alG1ijCs5ZM                                       Best friend    114221.0   \n",
              "1  QObXArTKxkw  Phim ngắn| Hào quang quý cô - Tập 10 | Mai Tha...      926.0   \n",
              "2  itmQmrECkvc                            Người mẹ phiền phức P2      2214.0   \n",
              "3  eE2gwWHFreM                        Cho xin miếng đi màaa 👉🏻👈🏻    145658.0   \n",
              "4  JHQtcvzTSTs                    Tiệm Bánh Tuổi Thơ Bất Ổn P133    236360.0   \n",
              "\n",
              "   viewCount  commentCount verified            username        category  \n",
              "0  3043710.0           1.0     True           HERO TEAM   Entertainment  \n",
              "1    55408.0           5.0    False      Mai Thanh Nhàn  People & Blogs  \n",
              "2    94244.0          18.0     True  Vân Vân Và Vân Vân   Entertainment  \n",
              "3  3779883.0           2.0     True           HERO TEAM   Entertainment  \n",
              "4  7632125.0         549.0    False        Cơm Tuổi Thơ  People & Blogs  "
            ],
            "text/html": [
              "\n",
              "\n",
              "  <div id=\"df-0dc14174-267e-464f-aeb7-8a170ae7997a\">\n",
              "    <div class=\"colab-df-container\">\n",
              "      <div>\n",
              "<style scoped>\n",
              "    .dataframe tbody tr th:only-of-type {\n",
              "        vertical-align: middle;\n",
              "    }\n",
              "\n",
              "    .dataframe tbody tr th {\n",
              "        vertical-align: top;\n",
              "    }\n",
              "\n",
              "    .dataframe thead th {\n",
              "        text-align: right;\n",
              "    }\n",
              "</style>\n",
              "<table border=\"1\" class=\"dataframe\">\n",
              "  <thead>\n",
              "    <tr style=\"text-align: right;\">\n",
              "      <th></th>\n",
              "      <th>id</th>\n",
              "      <th>title</th>\n",
              "      <th>likeCount</th>\n",
              "      <th>viewCount</th>\n",
              "      <th>commentCount</th>\n",
              "      <th>verified</th>\n",
              "      <th>username</th>\n",
              "      <th>category</th>\n",
              "    </tr>\n",
              "  </thead>\n",
              "  <tbody>\n",
              "    <tr>\n",
              "      <th>0</th>\n",
              "      <td>alG1ijCs5ZM</td>\n",
              "      <td>Best friend</td>\n",
              "      <td>114221.0</td>\n",
              "      <td>3043710.0</td>\n",
              "      <td>1.0</td>\n",
              "      <td>True</td>\n",
              "      <td>HERO TEAM</td>\n",
              "      <td>Entertainment</td>\n",
              "    </tr>\n",
              "    <tr>\n",
              "      <th>1</th>\n",
              "      <td>QObXArTKxkw</td>\n",
              "      <td>Phim ngắn| Hào quang quý cô - Tập 10 | Mai Tha...</td>\n",
              "      <td>926.0</td>\n",
              "      <td>55408.0</td>\n",
              "      <td>5.0</td>\n",
              "      <td>False</td>\n",
              "      <td>Mai Thanh Nhàn</td>\n",
              "      <td>People &amp; Blogs</td>\n",
              "    </tr>\n",
              "    <tr>\n",
              "      <th>2</th>\n",
              "      <td>itmQmrECkvc</td>\n",
              "      <td>Người mẹ phiền phức P2</td>\n",
              "      <td>2214.0</td>\n",
              "      <td>94244.0</td>\n",
              "      <td>18.0</td>\n",
              "      <td>True</td>\n",
              "      <td>Vân Vân Và Vân Vân</td>\n",
              "      <td>Entertainment</td>\n",
              "    </tr>\n",
              "    <tr>\n",
              "      <th>3</th>\n",
              "      <td>eE2gwWHFreM</td>\n",
              "      <td>Cho xin miếng đi màaa 👉🏻👈🏻</td>\n",
              "      <td>145658.0</td>\n",
              "      <td>3779883.0</td>\n",
              "      <td>2.0</td>\n",
              "      <td>True</td>\n",
              "      <td>HERO TEAM</td>\n",
              "      <td>Entertainment</td>\n",
              "    </tr>\n",
              "    <tr>\n",
              "      <th>4</th>\n",
              "      <td>JHQtcvzTSTs</td>\n",
              "      <td>Tiệm Bánh Tuổi Thơ Bất Ổn P133</td>\n",
              "      <td>236360.0</td>\n",
              "      <td>7632125.0</td>\n",
              "      <td>549.0</td>\n",
              "      <td>False</td>\n",
              "      <td>Cơm Tuổi Thơ</td>\n",
              "      <td>People &amp; Blogs</td>\n",
              "    </tr>\n",
              "  </tbody>\n",
              "</table>\n",
              "</div>\n",
              "      <button class=\"colab-df-convert\" onclick=\"convertToInteractive('df-0dc14174-267e-464f-aeb7-8a170ae7997a')\"\n",
              "              title=\"Convert this dataframe to an interactive table.\"\n",
              "              style=\"display:none;\">\n",
              "\n",
              "  <svg xmlns=\"http://www.w3.org/2000/svg\" height=\"24px\"viewBox=\"0 0 24 24\"\n",
              "       width=\"24px\">\n",
              "    <path d=\"M0 0h24v24H0V0z\" fill=\"none\"/>\n",
              "    <path d=\"M18.56 5.44l.94 2.06.94-2.06 2.06-.94-2.06-.94-.94-2.06-.94 2.06-2.06.94zm-11 1L8.5 8.5l.94-2.06 2.06-.94-2.06-.94L8.5 2.5l-.94 2.06-2.06.94zm10 10l.94 2.06.94-2.06 2.06-.94-2.06-.94-.94-2.06-.94 2.06-2.06.94z\"/><path d=\"M17.41 7.96l-1.37-1.37c-.4-.4-.92-.59-1.43-.59-.52 0-1.04.2-1.43.59L10.3 9.45l-7.72 7.72c-.78.78-.78 2.05 0 2.83L4 21.41c.39.39.9.59 1.41.59.51 0 1.02-.2 1.41-.59l7.78-7.78 2.81-2.81c.8-.78.8-2.07 0-2.86zM5.41 20L4 18.59l7.72-7.72 1.47 1.35L5.41 20z\"/>\n",
              "  </svg>\n",
              "      </button>\n",
              "\n",
              "\n",
              "\n",
              "    <div id=\"df-84cbc581-880c-4293-8a5b-8890fc8cdefe\">\n",
              "      <button class=\"colab-df-quickchart\" onclick=\"quickchart('df-84cbc581-880c-4293-8a5b-8890fc8cdefe')\"\n",
              "              title=\"Suggest charts.\"\n",
              "              style=\"display:none;\">\n",
              "\n",
              "<svg xmlns=\"http://www.w3.org/2000/svg\" height=\"24px\"viewBox=\"0 0 24 24\"\n",
              "     width=\"24px\">\n",
              "    <g>\n",
              "        <path d=\"M19 3H5c-1.1 0-2 .9-2 2v14c0 1.1.9 2 2 2h14c1.1 0 2-.9 2-2V5c0-1.1-.9-2-2-2zM9 17H7v-7h2v7zm4 0h-2V7h2v10zm4 0h-2v-4h2v4z\"/>\n",
              "    </g>\n",
              "</svg>\n",
              "      </button>\n",
              "    </div>\n",
              "\n",
              "<style>\n",
              "  .colab-df-quickchart {\n",
              "    background-color: #E8F0FE;\n",
              "    border: none;\n",
              "    border-radius: 50%;\n",
              "    cursor: pointer;\n",
              "    display: none;\n",
              "    fill: #1967D2;\n",
              "    height: 32px;\n",
              "    padding: 0 0 0 0;\n",
              "    width: 32px;\n",
              "  }\n",
              "\n",
              "  .colab-df-quickchart:hover {\n",
              "    background-color: #E2EBFA;\n",
              "    box-shadow: 0px 1px 2px rgba(60, 64, 67, 0.3), 0px 1px 3px 1px rgba(60, 64, 67, 0.15);\n",
              "    fill: #174EA6;\n",
              "  }\n",
              "\n",
              "  [theme=dark] .colab-df-quickchart {\n",
              "    background-color: #3B4455;\n",
              "    fill: #D2E3FC;\n",
              "  }\n",
              "\n",
              "  [theme=dark] .colab-df-quickchart:hover {\n",
              "    background-color: #434B5C;\n",
              "    box-shadow: 0px 1px 3px 1px rgba(0, 0, 0, 0.15);\n",
              "    filter: drop-shadow(0px 1px 2px rgba(0, 0, 0, 0.3));\n",
              "    fill: #FFFFFF;\n",
              "  }\n",
              "</style>\n",
              "\n",
              "    <script>\n",
              "      async function quickchart(key) {\n",
              "        const containerElement = document.querySelector('#' + key);\n",
              "        const charts = await google.colab.kernel.invokeFunction(\n",
              "            'suggestCharts', [key], {});\n",
              "      }\n",
              "    </script>\n",
              "\n",
              "      <script>\n",
              "\n",
              "function displayQuickchartButton(domScope) {\n",
              "  let quickchartButtonEl =\n",
              "    domScope.querySelector('#df-84cbc581-880c-4293-8a5b-8890fc8cdefe button.colab-df-quickchart');\n",
              "  quickchartButtonEl.style.display =\n",
              "    google.colab.kernel.accessAllowed ? 'block' : 'none';\n",
              "}\n",
              "\n",
              "        displayQuickchartButton(document);\n",
              "      </script>\n",
              "      <style>\n",
              "    .colab-df-container {\n",
              "      display:flex;\n",
              "      flex-wrap:wrap;\n",
              "      gap: 12px;\n",
              "    }\n",
              "\n",
              "    .colab-df-convert {\n",
              "      background-color: #E8F0FE;\n",
              "      border: none;\n",
              "      border-radius: 50%;\n",
              "      cursor: pointer;\n",
              "      display: none;\n",
              "      fill: #1967D2;\n",
              "      height: 32px;\n",
              "      padding: 0 0 0 0;\n",
              "      width: 32px;\n",
              "    }\n",
              "\n",
              "    .colab-df-convert:hover {\n",
              "      background-color: #E2EBFA;\n",
              "      box-shadow: 0px 1px 2px rgba(60, 64, 67, 0.3), 0px 1px 3px 1px rgba(60, 64, 67, 0.15);\n",
              "      fill: #174EA6;\n",
              "    }\n",
              "\n",
              "    [theme=dark] .colab-df-convert {\n",
              "      background-color: #3B4455;\n",
              "      fill: #D2E3FC;\n",
              "    }\n",
              "\n",
              "    [theme=dark] .colab-df-convert:hover {\n",
              "      background-color: #434B5C;\n",
              "      box-shadow: 0px 1px 3px 1px rgba(0, 0, 0, 0.15);\n",
              "      filter: drop-shadow(0px 1px 2px rgba(0, 0, 0, 0.3));\n",
              "      fill: #FFFFFF;\n",
              "    }\n",
              "  </style>\n",
              "\n",
              "      <script>\n",
              "        const buttonEl =\n",
              "          document.querySelector('#df-0dc14174-267e-464f-aeb7-8a170ae7997a button.colab-df-convert');\n",
              "        buttonEl.style.display =\n",
              "          google.colab.kernel.accessAllowed ? 'block' : 'none';\n",
              "\n",
              "        async function convertToInteractive(key) {\n",
              "          const element = document.querySelector('#df-0dc14174-267e-464f-aeb7-8a170ae7997a');\n",
              "          const dataTable =\n",
              "            await google.colab.kernel.invokeFunction('convertToInteractive',\n",
              "                                                     [key], {});\n",
              "          if (!dataTable) return;\n",
              "\n",
              "          const docLinkHtml = 'Like what you see? Visit the ' +\n",
              "            '<a target=\"_blank\" href=https://colab.research.google.com/notebooks/data_table.ipynb>data table notebook</a>'\n",
              "            + ' to learn more about interactive tables.';\n",
              "          element.innerHTML = '';\n",
              "          dataTable['output_type'] = 'display_data';\n",
              "          await google.colab.output.renderOutput(dataTable, element);\n",
              "          const docLink = document.createElement('div');\n",
              "          docLink.innerHTML = docLinkHtml;\n",
              "          element.appendChild(docLink);\n",
              "        }\n",
              "      </script>\n",
              "    </div>\n",
              "  </div>\n"
            ]
          },
          "metadata": {},
          "execution_count": 3
        }
      ]
    },
    {
      "cell_type": "markdown",
      "source": [
        "# EDA"
      ],
      "metadata": {
        "id": "8ZGf-yBwhbjT"
      }
    },
    {
      "cell_type": "code",
      "source": [
        "data.info()"
      ],
      "metadata": {
        "colab": {
          "base_uri": "https://localhost:8080/"
        },
        "id": "GQF0pGoDfjuq",
        "outputId": "196ce982-8b66-4a2a-b97b-ac514368e9cb"
      },
      "execution_count": 13,
      "outputs": [
        {
          "output_type": "stream",
          "name": "stdout",
          "text": [
            "<class 'pandas.core.frame.DataFrame'>\n",
            "Int64Index: 9547 entries, 0 to 11149\n",
            "Data columns (total 8 columns):\n",
            " #   Column        Non-Null Count  Dtype  \n",
            "---  ------        --------------  -----  \n",
            " 0   id            9547 non-null   object \n",
            " 1   title         9547 non-null   object \n",
            " 2   likeCount     9547 non-null   float64\n",
            " 3   viewCount     9547 non-null   float64\n",
            " 4   commentCount  9547 non-null   float64\n",
            " 5   verified      9547 non-null   bool   \n",
            " 6   username      9547 non-null   object \n",
            " 7   category      9547 non-null   object \n",
            "dtypes: bool(1), float64(3), object(4)\n",
            "memory usage: 606.0+ KB\n"
          ]
        }
      ]
    },
    {
      "cell_type": "code",
      "source": [
        "categories = data.category.unique()\n",
        "categories"
      ],
      "metadata": {
        "colab": {
          "base_uri": "https://localhost:8080/"
        },
        "id": "uWfiHIy0gKlF",
        "outputId": "93aff8fc-0577-4921-9937-18d35d850b7e"
      },
      "execution_count": 14,
      "outputs": [
        {
          "output_type": "execute_result",
          "data": {
            "text/plain": [
              "array(['Entertainment', 'People & Blogs', 'Pets & Animals', 'Gaming',\n",
              "       'Film & Animation', 'Howto & Style', 'Music', 'Comedy', 'Sports',\n",
              "       'News & Politics', 'Travel & Events', 'Education',\n",
              "       'Science & Technology', 'Autos & Vehicles'], dtype=object)"
            ]
          },
          "metadata": {},
          "execution_count": 14
        }
      ]
    },
    {
      "cell_type": "code",
      "source": [
        "def find_missing_percent(data):\n",
        "    miss_df = pd.DataFrame({'ColumnName':[],'TotalMissingVals':[],'PercentMissing':[]})\n",
        "    for col in data.columns:\n",
        "        missinginfo = pd.DataFrame({\"ColumnName\" : col,\n",
        "                       \"TotalMissingVals\" : data[col].isnull().sum()}, index = [0])\n",
        "        miss_df = pd.concat([miss_df, missinginfo], ignore_index = True)\n",
        "    miss_df = miss_df[miss_df[\"TotalMissingVals\"] > 0].reset_index(drop = True)\n",
        "    miss_df[\"PercentMissing\"] = (miss_df[\"TotalMissingVals\"]/data.shape[0])*100\n",
        "    return miss_df"
      ],
      "metadata": {
        "id": "zRLQyiz4gSR_"
      },
      "execution_count": 15,
      "outputs": []
    },
    {
      "cell_type": "code",
      "source": [
        "miss_df = find_missing_percent(data)\n",
        "missing_cols = list(miss_df[\"ColumnName\"])\n",
        "print(\"Missing Cols :\", missing_cols)\n",
        "display(miss_df.T)"
      ],
      "metadata": {
        "colab": {
          "base_uri": "https://localhost:8080/",
          "height": 144
        },
        "id": "uz7_H_dbhr8M",
        "outputId": "faab4315-550e-429b-9091-7bae8835d2cb"
      },
      "execution_count": 16,
      "outputs": [
        {
          "output_type": "stream",
          "name": "stdout",
          "text": [
            "Missing Cols : []\n"
          ]
        },
        {
          "output_type": "display_data",
          "data": {
            "text/plain": [
              "Empty DataFrame\n",
              "Columns: []\n",
              "Index: [ColumnName, TotalMissingVals, PercentMissing]"
            ],
            "text/html": [
              "\n",
              "\n",
              "  <div id=\"df-a8f1e1bf-9bab-4fb5-b582-0c5fbf025a1e\">\n",
              "    <div class=\"colab-df-container\">\n",
              "      <div>\n",
              "<style scoped>\n",
              "    .dataframe tbody tr th:only-of-type {\n",
              "        vertical-align: middle;\n",
              "    }\n",
              "\n",
              "    .dataframe tbody tr th {\n",
              "        vertical-align: top;\n",
              "    }\n",
              "\n",
              "    .dataframe thead th {\n",
              "        text-align: right;\n",
              "    }\n",
              "</style>\n",
              "<table border=\"1\" class=\"dataframe\">\n",
              "  <thead>\n",
              "    <tr style=\"text-align: right;\">\n",
              "      <th></th>\n",
              "    </tr>\n",
              "  </thead>\n",
              "  <tbody>\n",
              "    <tr>\n",
              "      <th>ColumnName</th>\n",
              "    </tr>\n",
              "    <tr>\n",
              "      <th>TotalMissingVals</th>\n",
              "    </tr>\n",
              "    <tr>\n",
              "      <th>PercentMissing</th>\n",
              "    </tr>\n",
              "  </tbody>\n",
              "</table>\n",
              "</div>\n",
              "      <button class=\"colab-df-convert\" onclick=\"convertToInteractive('df-a8f1e1bf-9bab-4fb5-b582-0c5fbf025a1e')\"\n",
              "              title=\"Convert this dataframe to an interactive table.\"\n",
              "              style=\"display:none;\">\n",
              "\n",
              "  <svg xmlns=\"http://www.w3.org/2000/svg\" height=\"24px\"viewBox=\"0 0 24 24\"\n",
              "       width=\"24px\">\n",
              "    <path d=\"M0 0h24v24H0V0z\" fill=\"none\"/>\n",
              "    <path d=\"M18.56 5.44l.94 2.06.94-2.06 2.06-.94-2.06-.94-.94-2.06-.94 2.06-2.06.94zm-11 1L8.5 8.5l.94-2.06 2.06-.94-2.06-.94L8.5 2.5l-.94 2.06-2.06.94zm10 10l.94 2.06.94-2.06 2.06-.94-2.06-.94-.94-2.06-.94 2.06-2.06.94z\"/><path d=\"M17.41 7.96l-1.37-1.37c-.4-.4-.92-.59-1.43-.59-.52 0-1.04.2-1.43.59L10.3 9.45l-7.72 7.72c-.78.78-.78 2.05 0 2.83L4 21.41c.39.39.9.59 1.41.59.51 0 1.02-.2 1.41-.59l7.78-7.78 2.81-2.81c.8-.78.8-2.07 0-2.86zM5.41 20L4 18.59l7.72-7.72 1.47 1.35L5.41 20z\"/>\n",
              "  </svg>\n",
              "      </button>\n",
              "\n",
              "\n",
              "\n",
              "    <div id=\"df-1637315e-13ca-47b7-b9b9-b89cb6f5b57a\">\n",
              "      <button class=\"colab-df-quickchart\" onclick=\"quickchart('df-1637315e-13ca-47b7-b9b9-b89cb6f5b57a')\"\n",
              "              title=\"Suggest charts.\"\n",
              "              style=\"display:none;\">\n",
              "\n",
              "<svg xmlns=\"http://www.w3.org/2000/svg\" height=\"24px\"viewBox=\"0 0 24 24\"\n",
              "     width=\"24px\">\n",
              "    <g>\n",
              "        <path d=\"M19 3H5c-1.1 0-2 .9-2 2v14c0 1.1.9 2 2 2h14c1.1 0 2-.9 2-2V5c0-1.1-.9-2-2-2zM9 17H7v-7h2v7zm4 0h-2V7h2v10zm4 0h-2v-4h2v4z\"/>\n",
              "    </g>\n",
              "</svg>\n",
              "      </button>\n",
              "    </div>\n",
              "\n",
              "<style>\n",
              "  .colab-df-quickchart {\n",
              "    background-color: #E8F0FE;\n",
              "    border: none;\n",
              "    border-radius: 50%;\n",
              "    cursor: pointer;\n",
              "    display: none;\n",
              "    fill: #1967D2;\n",
              "    height: 32px;\n",
              "    padding: 0 0 0 0;\n",
              "    width: 32px;\n",
              "  }\n",
              "\n",
              "  .colab-df-quickchart:hover {\n",
              "    background-color: #E2EBFA;\n",
              "    box-shadow: 0px 1px 2px rgba(60, 64, 67, 0.3), 0px 1px 3px 1px rgba(60, 64, 67, 0.15);\n",
              "    fill: #174EA6;\n",
              "  }\n",
              "\n",
              "  [theme=dark] .colab-df-quickchart {\n",
              "    background-color: #3B4455;\n",
              "    fill: #D2E3FC;\n",
              "  }\n",
              "\n",
              "  [theme=dark] .colab-df-quickchart:hover {\n",
              "    background-color: #434B5C;\n",
              "    box-shadow: 0px 1px 3px 1px rgba(0, 0, 0, 0.15);\n",
              "    filter: drop-shadow(0px 1px 2px rgba(0, 0, 0, 0.3));\n",
              "    fill: #FFFFFF;\n",
              "  }\n",
              "</style>\n",
              "\n",
              "    <script>\n",
              "      async function quickchart(key) {\n",
              "        const containerElement = document.querySelector('#' + key);\n",
              "        const charts = await google.colab.kernel.invokeFunction(\n",
              "            'suggestCharts', [key], {});\n",
              "      }\n",
              "    </script>\n",
              "\n",
              "      <script>\n",
              "\n",
              "function displayQuickchartButton(domScope) {\n",
              "  let quickchartButtonEl =\n",
              "    domScope.querySelector('#df-1637315e-13ca-47b7-b9b9-b89cb6f5b57a button.colab-df-quickchart');\n",
              "  quickchartButtonEl.style.display =\n",
              "    google.colab.kernel.accessAllowed ? 'block' : 'none';\n",
              "}\n",
              "\n",
              "        displayQuickchartButton(document);\n",
              "      </script>\n",
              "      <style>\n",
              "    .colab-df-container {\n",
              "      display:flex;\n",
              "      flex-wrap:wrap;\n",
              "      gap: 12px;\n",
              "    }\n",
              "\n",
              "    .colab-df-convert {\n",
              "      background-color: #E8F0FE;\n",
              "      border: none;\n",
              "      border-radius: 50%;\n",
              "      cursor: pointer;\n",
              "      display: none;\n",
              "      fill: #1967D2;\n",
              "      height: 32px;\n",
              "      padding: 0 0 0 0;\n",
              "      width: 32px;\n",
              "    }\n",
              "\n",
              "    .colab-df-convert:hover {\n",
              "      background-color: #E2EBFA;\n",
              "      box-shadow: 0px 1px 2px rgba(60, 64, 67, 0.3), 0px 1px 3px 1px rgba(60, 64, 67, 0.15);\n",
              "      fill: #174EA6;\n",
              "    }\n",
              "\n",
              "    [theme=dark] .colab-df-convert {\n",
              "      background-color: #3B4455;\n",
              "      fill: #D2E3FC;\n",
              "    }\n",
              "\n",
              "    [theme=dark] .colab-df-convert:hover {\n",
              "      background-color: #434B5C;\n",
              "      box-shadow: 0px 1px 3px 1px rgba(0, 0, 0, 0.15);\n",
              "      filter: drop-shadow(0px 1px 2px rgba(0, 0, 0, 0.3));\n",
              "      fill: #FFFFFF;\n",
              "    }\n",
              "  </style>\n",
              "\n",
              "      <script>\n",
              "        const buttonEl =\n",
              "          document.querySelector('#df-a8f1e1bf-9bab-4fb5-b582-0c5fbf025a1e button.colab-df-convert');\n",
              "        buttonEl.style.display =\n",
              "          google.colab.kernel.accessAllowed ? 'block' : 'none';\n",
              "\n",
              "        async function convertToInteractive(key) {\n",
              "          const element = document.querySelector('#df-a8f1e1bf-9bab-4fb5-b582-0c5fbf025a1e');\n",
              "          const dataTable =\n",
              "            await google.colab.kernel.invokeFunction('convertToInteractive',\n",
              "                                                     [key], {});\n",
              "          if (!dataTable) return;\n",
              "\n",
              "          const docLinkHtml = 'Like what you see? Visit the ' +\n",
              "            '<a target=\"_blank\" href=https://colab.research.google.com/notebooks/data_table.ipynb>data table notebook</a>'\n",
              "            + ' to learn more about interactive tables.';\n",
              "          element.innerHTML = '';\n",
              "          dataTable['output_type'] = 'display_data';\n",
              "          await google.colab.output.renderOutput(dataTable, element);\n",
              "          const docLink = document.createElement('div');\n",
              "          docLink.innerHTML = docLinkHtml;\n",
              "          element.appendChild(docLink);\n",
              "        }\n",
              "      </script>\n",
              "    </div>\n",
              "  </div>\n"
            ]
          },
          "metadata": {}
        }
      ]
    },
    {
      "cell_type": "markdown",
      "source": [
        "Small missing values"
      ],
      "metadata": {
        "id": "dPmQwNKri1eP"
      }
    },
    {
      "cell_type": "markdown",
      "source": [
        "# Missing handling"
      ],
      "metadata": {
        "id": "5xmmRvixi-5G"
      }
    },
    {
      "cell_type": "code",
      "source": [
        "# lisewise deletion\n",
        "def listwise_deletion(data):\n",
        "    for col in data.columns:\n",
        "        miss_df = data[col][data[col].isnull()]\n",
        "        miss_ind = miss_df.index\n",
        "        data = data.drop(miss_ind, axis = 0)\n",
        "    return data, miss_df"
      ],
      "metadata": {
        "id": "Z68lT4qWYUxt"
      },
      "execution_count": 17,
      "outputs": []
    },
    {
      "cell_type": "code",
      "source": [
        "data, miss_df = listwise_deletion(data)"
      ],
      "metadata": {
        "id": "3_K3eDdDfbMJ"
      },
      "execution_count": 18,
      "outputs": []
    },
    {
      "cell_type": "code",
      "source": [
        "numeric_cols = list(data.select_dtypes(['float','int']).columns)\n",
        "categoric_cols = list(data.select_dtypes('object').columns)\n",
        "missing_numeric_cols = np.intersect1d(numeric_cols, missing_cols) # Intersect two lists\n",
        "missing_categoric_cols = np.intersect1d(categoric_cols, missing_cols)\n",
        "good_cols = [col for col in data.columns if col not in missing_numeric_cols and col not in missing_categoric_cols]\n",
        "print(f\"Missing Numeric Columns : {missing_numeric_cols}\")\n",
        "# print(f\"Missing Categoric Columns : {missing_categoric_cols}\")\n",
        "missing_categoric_cols = np.array(['category', 'verified'])\n",
        "print(f\"Good Columns : {good_cols}\")"
      ],
      "metadata": {
        "colab": {
          "base_uri": "https://localhost:8080/"
        },
        "id": "9c2Ohmdwj67F",
        "outputId": "10aaeff0-cf41-4e8b-c5f9-457404b7ac1d"
      },
      "execution_count": 19,
      "outputs": [
        {
          "output_type": "stream",
          "name": "stdout",
          "text": [
            "Missing Numeric Columns : []\n",
            "Good Columns : ['id', 'title', 'likeCount', 'viewCount', 'commentCount', 'verified', 'username', 'category']\n"
          ]
        }
      ]
    },
    {
      "cell_type": "code",
      "source": [
        "def mean_imputation(data, missing_numeric_cols):\n",
        "    for col in missing_numeric_cols:\n",
        "        data[col] = data[col].fillna(data[col].mean())\n",
        "    return data\n",
        "def mode_imputation(data, missing_categoric_cols):\n",
        "    for col in missing_categoric_cols:\n",
        "        data[col] = data[col].fillna(data[col].mode().iloc[0])\n",
        "    return data"
      ],
      "metadata": {
        "id": "UqPs8iL2h6q8"
      },
      "execution_count": 20,
      "outputs": []
    },
    {
      "cell_type": "code",
      "source": [
        "data_imp_byvalue = mean_imputation(data, missing_numeric_cols)\n",
        "data_imp_byvalue = mode_imputation(data_imp_byvalue,missing_categoric_cols)\n",
        "miss_df = find_missing_percent(data_imp_byvalue)\n",
        "print(f\"shape before {data.shape} and after {data_imp_byvalue.shape} imputation by mean\")\n",
        "display(miss_df)"
      ],
      "metadata": {
        "colab": {
          "base_uri": "https://localhost:8080/",
          "height": 0
        },
        "id": "fLvkJdDqjxTn",
        "outputId": "2416a764-01a6-4301-8d6f-174a0ff5f992"
      },
      "execution_count": 21,
      "outputs": [
        {
          "output_type": "stream",
          "name": "stdout",
          "text": [
            "shape before (9547, 8) and after (9547, 8) imputation by mean\n"
          ]
        },
        {
          "output_type": "display_data",
          "data": {
            "text/plain": [
              "Empty DataFrame\n",
              "Columns: [ColumnName, TotalMissingVals, PercentMissing]\n",
              "Index: []"
            ],
            "text/html": [
              "\n",
              "\n",
              "  <div id=\"df-ce3ab2cc-3201-4464-ba39-b9648a82afb6\">\n",
              "    <div class=\"colab-df-container\">\n",
              "      <div>\n",
              "<style scoped>\n",
              "    .dataframe tbody tr th:only-of-type {\n",
              "        vertical-align: middle;\n",
              "    }\n",
              "\n",
              "    .dataframe tbody tr th {\n",
              "        vertical-align: top;\n",
              "    }\n",
              "\n",
              "    .dataframe thead th {\n",
              "        text-align: right;\n",
              "    }\n",
              "</style>\n",
              "<table border=\"1\" class=\"dataframe\">\n",
              "  <thead>\n",
              "    <tr style=\"text-align: right;\">\n",
              "      <th></th>\n",
              "      <th>ColumnName</th>\n",
              "      <th>TotalMissingVals</th>\n",
              "      <th>PercentMissing</th>\n",
              "    </tr>\n",
              "  </thead>\n",
              "  <tbody>\n",
              "  </tbody>\n",
              "</table>\n",
              "</div>\n",
              "      <button class=\"colab-df-convert\" onclick=\"convertToInteractive('df-ce3ab2cc-3201-4464-ba39-b9648a82afb6')\"\n",
              "              title=\"Convert this dataframe to an interactive table.\"\n",
              "              style=\"display:none;\">\n",
              "\n",
              "  <svg xmlns=\"http://www.w3.org/2000/svg\" height=\"24px\"viewBox=\"0 0 24 24\"\n",
              "       width=\"24px\">\n",
              "    <path d=\"M0 0h24v24H0V0z\" fill=\"none\"/>\n",
              "    <path d=\"M18.56 5.44l.94 2.06.94-2.06 2.06-.94-2.06-.94-.94-2.06-.94 2.06-2.06.94zm-11 1L8.5 8.5l.94-2.06 2.06-.94-2.06-.94L8.5 2.5l-.94 2.06-2.06.94zm10 10l.94 2.06.94-2.06 2.06-.94-2.06-.94-.94-2.06-.94 2.06-2.06.94z\"/><path d=\"M17.41 7.96l-1.37-1.37c-.4-.4-.92-.59-1.43-.59-.52 0-1.04.2-1.43.59L10.3 9.45l-7.72 7.72c-.78.78-.78 2.05 0 2.83L4 21.41c.39.39.9.59 1.41.59.51 0 1.02-.2 1.41-.59l7.78-7.78 2.81-2.81c.8-.78.8-2.07 0-2.86zM5.41 20L4 18.59l7.72-7.72 1.47 1.35L5.41 20z\"/>\n",
              "  </svg>\n",
              "      </button>\n",
              "\n",
              "\n",
              "\n",
              "    <div id=\"df-0d1bb9d0-02c5-40b1-a950-2eeafa1b3c9c\">\n",
              "      <button class=\"colab-df-quickchart\" onclick=\"quickchart('df-0d1bb9d0-02c5-40b1-a950-2eeafa1b3c9c')\"\n",
              "              title=\"Suggest charts.\"\n",
              "              style=\"display:none;\">\n",
              "\n",
              "<svg xmlns=\"http://www.w3.org/2000/svg\" height=\"24px\"viewBox=\"0 0 24 24\"\n",
              "     width=\"24px\">\n",
              "    <g>\n",
              "        <path d=\"M19 3H5c-1.1 0-2 .9-2 2v14c0 1.1.9 2 2 2h14c1.1 0 2-.9 2-2V5c0-1.1-.9-2-2-2zM9 17H7v-7h2v7zm4 0h-2V7h2v10zm4 0h-2v-4h2v4z\"/>\n",
              "    </g>\n",
              "</svg>\n",
              "      </button>\n",
              "    </div>\n",
              "\n",
              "<style>\n",
              "  .colab-df-quickchart {\n",
              "    background-color: #E8F0FE;\n",
              "    border: none;\n",
              "    border-radius: 50%;\n",
              "    cursor: pointer;\n",
              "    display: none;\n",
              "    fill: #1967D2;\n",
              "    height: 32px;\n",
              "    padding: 0 0 0 0;\n",
              "    width: 32px;\n",
              "  }\n",
              "\n",
              "  .colab-df-quickchart:hover {\n",
              "    background-color: #E2EBFA;\n",
              "    box-shadow: 0px 1px 2px rgba(60, 64, 67, 0.3), 0px 1px 3px 1px rgba(60, 64, 67, 0.15);\n",
              "    fill: #174EA6;\n",
              "  }\n",
              "\n",
              "  [theme=dark] .colab-df-quickchart {\n",
              "    background-color: #3B4455;\n",
              "    fill: #D2E3FC;\n",
              "  }\n",
              "\n",
              "  [theme=dark] .colab-df-quickchart:hover {\n",
              "    background-color: #434B5C;\n",
              "    box-shadow: 0px 1px 3px 1px rgba(0, 0, 0, 0.15);\n",
              "    filter: drop-shadow(0px 1px 2px rgba(0, 0, 0, 0.3));\n",
              "    fill: #FFFFFF;\n",
              "  }\n",
              "</style>\n",
              "\n",
              "    <script>\n",
              "      async function quickchart(key) {\n",
              "        const containerElement = document.querySelector('#' + key);\n",
              "        const charts = await google.colab.kernel.invokeFunction(\n",
              "            'suggestCharts', [key], {});\n",
              "      }\n",
              "    </script>\n",
              "\n",
              "      <script>\n",
              "\n",
              "function displayQuickchartButton(domScope) {\n",
              "  let quickchartButtonEl =\n",
              "    domScope.querySelector('#df-0d1bb9d0-02c5-40b1-a950-2eeafa1b3c9c button.colab-df-quickchart');\n",
              "  quickchartButtonEl.style.display =\n",
              "    google.colab.kernel.accessAllowed ? 'block' : 'none';\n",
              "}\n",
              "\n",
              "        displayQuickchartButton(document);\n",
              "      </script>\n",
              "      <style>\n",
              "    .colab-df-container {\n",
              "      display:flex;\n",
              "      flex-wrap:wrap;\n",
              "      gap: 12px;\n",
              "    }\n",
              "\n",
              "    .colab-df-convert {\n",
              "      background-color: #E8F0FE;\n",
              "      border: none;\n",
              "      border-radius: 50%;\n",
              "      cursor: pointer;\n",
              "      display: none;\n",
              "      fill: #1967D2;\n",
              "      height: 32px;\n",
              "      padding: 0 0 0 0;\n",
              "      width: 32px;\n",
              "    }\n",
              "\n",
              "    .colab-df-convert:hover {\n",
              "      background-color: #E2EBFA;\n",
              "      box-shadow: 0px 1px 2px rgba(60, 64, 67, 0.3), 0px 1px 3px 1px rgba(60, 64, 67, 0.15);\n",
              "      fill: #174EA6;\n",
              "    }\n",
              "\n",
              "    [theme=dark] .colab-df-convert {\n",
              "      background-color: #3B4455;\n",
              "      fill: #D2E3FC;\n",
              "    }\n",
              "\n",
              "    [theme=dark] .colab-df-convert:hover {\n",
              "      background-color: #434B5C;\n",
              "      box-shadow: 0px 1px 3px 1px rgba(0, 0, 0, 0.15);\n",
              "      filter: drop-shadow(0px 1px 2px rgba(0, 0, 0, 0.3));\n",
              "      fill: #FFFFFF;\n",
              "    }\n",
              "  </style>\n",
              "\n",
              "      <script>\n",
              "        const buttonEl =\n",
              "          document.querySelector('#df-ce3ab2cc-3201-4464-ba39-b9648a82afb6 button.colab-df-convert');\n",
              "        buttonEl.style.display =\n",
              "          google.colab.kernel.accessAllowed ? 'block' : 'none';\n",
              "\n",
              "        async function convertToInteractive(key) {\n",
              "          const element = document.querySelector('#df-ce3ab2cc-3201-4464-ba39-b9648a82afb6');\n",
              "          const dataTable =\n",
              "            await google.colab.kernel.invokeFunction('convertToInteractive',\n",
              "                                                     [key], {});\n",
              "          if (!dataTable) return;\n",
              "\n",
              "          const docLinkHtml = 'Like what you see? Visit the ' +\n",
              "            '<a target=\"_blank\" href=https://colab.research.google.com/notebooks/data_table.ipynb>data table notebook</a>'\n",
              "            + ' to learn more about interactive tables.';\n",
              "          element.innerHTML = '';\n",
              "          dataTable['output_type'] = 'display_data';\n",
              "          await google.colab.output.renderOutput(dataTable, element);\n",
              "          const docLink = document.createElement('div');\n",
              "          docLink.innerHTML = docLinkHtml;\n",
              "          element.appendChild(docLink);\n",
              "        }\n",
              "      </script>\n",
              "    </div>\n",
              "  </div>\n"
            ]
          },
          "metadata": {}
        }
      ]
    },
    {
      "cell_type": "markdown",
      "source": [
        "# Data modelling"
      ],
      "metadata": {
        "id": "16x5F4Zqn3ww"
      }
    },
    {
      "cell_type": "code",
      "source": [
        "def FeatureEngineering(data_modelling):\n",
        "    data_modelling['engagementRate'] = (data_modelling['likeCount'] + data_modelling['commentCount'])/data_modelling['viewCount']\n",
        "    return data_modelling"
      ],
      "metadata": {
        "id": "oTf6wLEwn6Ol"
      },
      "execution_count": 22,
      "outputs": []
    },
    {
      "cell_type": "code",
      "source": [
        "data_modelling = FeatureEngineering(data)\n",
        "display(data_modelling.head())\n",
        "print(data_modelling.shape)"
      ],
      "metadata": {
        "colab": {
          "base_uri": "https://localhost:8080/",
          "height": 0
        },
        "id": "K-B4-4NtoT7G",
        "outputId": "d078ffc1-d6ab-4b72-bde8-3594f930cf1b"
      },
      "execution_count": 23,
      "outputs": [
        {
          "output_type": "display_data",
          "data": {
            "text/plain": [
              "            id                                              title  likeCount  \\\n",
              "0  alG1ijCs5ZM                                       Best friend    114221.0   \n",
              "1  QObXArTKxkw  Phim ngắn| Hào quang quý cô - Tập 10 | Mai Tha...      926.0   \n",
              "2  itmQmrECkvc                            Người mẹ phiền phức P2      2214.0   \n",
              "3  eE2gwWHFreM                        Cho xin miếng đi màaa 👉🏻👈🏻    145658.0   \n",
              "4  JHQtcvzTSTs                    Tiệm Bánh Tuổi Thơ Bất Ổn P133    236360.0   \n",
              "\n",
              "   viewCount  commentCount  verified            username        category  \\\n",
              "0  3043710.0           1.0      True           HERO TEAM   Entertainment   \n",
              "1    55408.0           5.0     False      Mai Thanh Nhàn  People & Blogs   \n",
              "2    94244.0          18.0      True  Vân Vân Và Vân Vân   Entertainment   \n",
              "3  3779883.0           2.0      True           HERO TEAM   Entertainment   \n",
              "4  7632125.0         549.0     False        Cơm Tuổi Thơ  People & Blogs   \n",
              "\n",
              "   engagementRate  \n",
              "0        0.037527  \n",
              "1        0.016803  \n",
              "2        0.023683  \n",
              "3        0.038536  \n",
              "4        0.031041  "
            ],
            "text/html": [
              "\n",
              "\n",
              "  <div id=\"df-31c66cae-e607-431f-a934-dcb7dece4b6e\">\n",
              "    <div class=\"colab-df-container\">\n",
              "      <div>\n",
              "<style scoped>\n",
              "    .dataframe tbody tr th:only-of-type {\n",
              "        vertical-align: middle;\n",
              "    }\n",
              "\n",
              "    .dataframe tbody tr th {\n",
              "        vertical-align: top;\n",
              "    }\n",
              "\n",
              "    .dataframe thead th {\n",
              "        text-align: right;\n",
              "    }\n",
              "</style>\n",
              "<table border=\"1\" class=\"dataframe\">\n",
              "  <thead>\n",
              "    <tr style=\"text-align: right;\">\n",
              "      <th></th>\n",
              "      <th>id</th>\n",
              "      <th>title</th>\n",
              "      <th>likeCount</th>\n",
              "      <th>viewCount</th>\n",
              "      <th>commentCount</th>\n",
              "      <th>verified</th>\n",
              "      <th>username</th>\n",
              "      <th>category</th>\n",
              "      <th>engagementRate</th>\n",
              "    </tr>\n",
              "  </thead>\n",
              "  <tbody>\n",
              "    <tr>\n",
              "      <th>0</th>\n",
              "      <td>alG1ijCs5ZM</td>\n",
              "      <td>Best friend</td>\n",
              "      <td>114221.0</td>\n",
              "      <td>3043710.0</td>\n",
              "      <td>1.0</td>\n",
              "      <td>True</td>\n",
              "      <td>HERO TEAM</td>\n",
              "      <td>Entertainment</td>\n",
              "      <td>0.037527</td>\n",
              "    </tr>\n",
              "    <tr>\n",
              "      <th>1</th>\n",
              "      <td>QObXArTKxkw</td>\n",
              "      <td>Phim ngắn| Hào quang quý cô - Tập 10 | Mai Tha...</td>\n",
              "      <td>926.0</td>\n",
              "      <td>55408.0</td>\n",
              "      <td>5.0</td>\n",
              "      <td>False</td>\n",
              "      <td>Mai Thanh Nhàn</td>\n",
              "      <td>People &amp; Blogs</td>\n",
              "      <td>0.016803</td>\n",
              "    </tr>\n",
              "    <tr>\n",
              "      <th>2</th>\n",
              "      <td>itmQmrECkvc</td>\n",
              "      <td>Người mẹ phiền phức P2</td>\n",
              "      <td>2214.0</td>\n",
              "      <td>94244.0</td>\n",
              "      <td>18.0</td>\n",
              "      <td>True</td>\n",
              "      <td>Vân Vân Và Vân Vân</td>\n",
              "      <td>Entertainment</td>\n",
              "      <td>0.023683</td>\n",
              "    </tr>\n",
              "    <tr>\n",
              "      <th>3</th>\n",
              "      <td>eE2gwWHFreM</td>\n",
              "      <td>Cho xin miếng đi màaa 👉🏻👈🏻</td>\n",
              "      <td>145658.0</td>\n",
              "      <td>3779883.0</td>\n",
              "      <td>2.0</td>\n",
              "      <td>True</td>\n",
              "      <td>HERO TEAM</td>\n",
              "      <td>Entertainment</td>\n",
              "      <td>0.038536</td>\n",
              "    </tr>\n",
              "    <tr>\n",
              "      <th>4</th>\n",
              "      <td>JHQtcvzTSTs</td>\n",
              "      <td>Tiệm Bánh Tuổi Thơ Bất Ổn P133</td>\n",
              "      <td>236360.0</td>\n",
              "      <td>7632125.0</td>\n",
              "      <td>549.0</td>\n",
              "      <td>False</td>\n",
              "      <td>Cơm Tuổi Thơ</td>\n",
              "      <td>People &amp; Blogs</td>\n",
              "      <td>0.031041</td>\n",
              "    </tr>\n",
              "  </tbody>\n",
              "</table>\n",
              "</div>\n",
              "      <button class=\"colab-df-convert\" onclick=\"convertToInteractive('df-31c66cae-e607-431f-a934-dcb7dece4b6e')\"\n",
              "              title=\"Convert this dataframe to an interactive table.\"\n",
              "              style=\"display:none;\">\n",
              "\n",
              "  <svg xmlns=\"http://www.w3.org/2000/svg\" height=\"24px\"viewBox=\"0 0 24 24\"\n",
              "       width=\"24px\">\n",
              "    <path d=\"M0 0h24v24H0V0z\" fill=\"none\"/>\n",
              "    <path d=\"M18.56 5.44l.94 2.06.94-2.06 2.06-.94-2.06-.94-.94-2.06-.94 2.06-2.06.94zm-11 1L8.5 8.5l.94-2.06 2.06-.94-2.06-.94L8.5 2.5l-.94 2.06-2.06.94zm10 10l.94 2.06.94-2.06 2.06-.94-2.06-.94-.94-2.06-.94 2.06-2.06.94z\"/><path d=\"M17.41 7.96l-1.37-1.37c-.4-.4-.92-.59-1.43-.59-.52 0-1.04.2-1.43.59L10.3 9.45l-7.72 7.72c-.78.78-.78 2.05 0 2.83L4 21.41c.39.39.9.59 1.41.59.51 0 1.02-.2 1.41-.59l7.78-7.78 2.81-2.81c.8-.78.8-2.07 0-2.86zM5.41 20L4 18.59l7.72-7.72 1.47 1.35L5.41 20z\"/>\n",
              "  </svg>\n",
              "      </button>\n",
              "\n",
              "\n",
              "\n",
              "    <div id=\"df-315b3248-f524-4068-9f47-b64b031ad44b\">\n",
              "      <button class=\"colab-df-quickchart\" onclick=\"quickchart('df-315b3248-f524-4068-9f47-b64b031ad44b')\"\n",
              "              title=\"Suggest charts.\"\n",
              "              style=\"display:none;\">\n",
              "\n",
              "<svg xmlns=\"http://www.w3.org/2000/svg\" height=\"24px\"viewBox=\"0 0 24 24\"\n",
              "     width=\"24px\">\n",
              "    <g>\n",
              "        <path d=\"M19 3H5c-1.1 0-2 .9-2 2v14c0 1.1.9 2 2 2h14c1.1 0 2-.9 2-2V5c0-1.1-.9-2-2-2zM9 17H7v-7h2v7zm4 0h-2V7h2v10zm4 0h-2v-4h2v4z\"/>\n",
              "    </g>\n",
              "</svg>\n",
              "      </button>\n",
              "    </div>\n",
              "\n",
              "<style>\n",
              "  .colab-df-quickchart {\n",
              "    background-color: #E8F0FE;\n",
              "    border: none;\n",
              "    border-radius: 50%;\n",
              "    cursor: pointer;\n",
              "    display: none;\n",
              "    fill: #1967D2;\n",
              "    height: 32px;\n",
              "    padding: 0 0 0 0;\n",
              "    width: 32px;\n",
              "  }\n",
              "\n",
              "  .colab-df-quickchart:hover {\n",
              "    background-color: #E2EBFA;\n",
              "    box-shadow: 0px 1px 2px rgba(60, 64, 67, 0.3), 0px 1px 3px 1px rgba(60, 64, 67, 0.15);\n",
              "    fill: #174EA6;\n",
              "  }\n",
              "\n",
              "  [theme=dark] .colab-df-quickchart {\n",
              "    background-color: #3B4455;\n",
              "    fill: #D2E3FC;\n",
              "  }\n",
              "\n",
              "  [theme=dark] .colab-df-quickchart:hover {\n",
              "    background-color: #434B5C;\n",
              "    box-shadow: 0px 1px 3px 1px rgba(0, 0, 0, 0.15);\n",
              "    filter: drop-shadow(0px 1px 2px rgba(0, 0, 0, 0.3));\n",
              "    fill: #FFFFFF;\n",
              "  }\n",
              "</style>\n",
              "\n",
              "    <script>\n",
              "      async function quickchart(key) {\n",
              "        const containerElement = document.querySelector('#' + key);\n",
              "        const charts = await google.colab.kernel.invokeFunction(\n",
              "            'suggestCharts', [key], {});\n",
              "      }\n",
              "    </script>\n",
              "\n",
              "      <script>\n",
              "\n",
              "function displayQuickchartButton(domScope) {\n",
              "  let quickchartButtonEl =\n",
              "    domScope.querySelector('#df-315b3248-f524-4068-9f47-b64b031ad44b button.colab-df-quickchart');\n",
              "  quickchartButtonEl.style.display =\n",
              "    google.colab.kernel.accessAllowed ? 'block' : 'none';\n",
              "}\n",
              "\n",
              "        displayQuickchartButton(document);\n",
              "      </script>\n",
              "      <style>\n",
              "    .colab-df-container {\n",
              "      display:flex;\n",
              "      flex-wrap:wrap;\n",
              "      gap: 12px;\n",
              "    }\n",
              "\n",
              "    .colab-df-convert {\n",
              "      background-color: #E8F0FE;\n",
              "      border: none;\n",
              "      border-radius: 50%;\n",
              "      cursor: pointer;\n",
              "      display: none;\n",
              "      fill: #1967D2;\n",
              "      height: 32px;\n",
              "      padding: 0 0 0 0;\n",
              "      width: 32px;\n",
              "    }\n",
              "\n",
              "    .colab-df-convert:hover {\n",
              "      background-color: #E2EBFA;\n",
              "      box-shadow: 0px 1px 2px rgba(60, 64, 67, 0.3), 0px 1px 3px 1px rgba(60, 64, 67, 0.15);\n",
              "      fill: #174EA6;\n",
              "    }\n",
              "\n",
              "    [theme=dark] .colab-df-convert {\n",
              "      background-color: #3B4455;\n",
              "      fill: #D2E3FC;\n",
              "    }\n",
              "\n",
              "    [theme=dark] .colab-df-convert:hover {\n",
              "      background-color: #434B5C;\n",
              "      box-shadow: 0px 1px 3px 1px rgba(0, 0, 0, 0.15);\n",
              "      filter: drop-shadow(0px 1px 2px rgba(0, 0, 0, 0.3));\n",
              "      fill: #FFFFFF;\n",
              "    }\n",
              "  </style>\n",
              "\n",
              "      <script>\n",
              "        const buttonEl =\n",
              "          document.querySelector('#df-31c66cae-e607-431f-a934-dcb7dece4b6e button.colab-df-convert');\n",
              "        buttonEl.style.display =\n",
              "          google.colab.kernel.accessAllowed ? 'block' : 'none';\n",
              "\n",
              "        async function convertToInteractive(key) {\n",
              "          const element = document.querySelector('#df-31c66cae-e607-431f-a934-dcb7dece4b6e');\n",
              "          const dataTable =\n",
              "            await google.colab.kernel.invokeFunction('convertToInteractive',\n",
              "                                                     [key], {});\n",
              "          if (!dataTable) return;\n",
              "\n",
              "          const docLinkHtml = 'Like what you see? Visit the ' +\n",
              "            '<a target=\"_blank\" href=https://colab.research.google.com/notebooks/data_table.ipynb>data table notebook</a>'\n",
              "            + ' to learn more about interactive tables.';\n",
              "          element.innerHTML = '';\n",
              "          dataTable['output_type'] = 'display_data';\n",
              "          await google.colab.output.renderOutput(dataTable, element);\n",
              "          const docLink = document.createElement('div');\n",
              "          docLink.innerHTML = docLinkHtml;\n",
              "          element.appendChild(docLink);\n",
              "        }\n",
              "      </script>\n",
              "    </div>\n",
              "  </div>\n"
            ]
          },
          "metadata": {}
        },
        {
          "output_type": "stream",
          "name": "stdout",
          "text": [
            "(9547, 9)\n"
          ]
        }
      ]
    },
    {
      "cell_type": "code",
      "source": [
        "data_modelling.info()"
      ],
      "metadata": {
        "colab": {
          "base_uri": "https://localhost:8080/"
        },
        "id": "Ihn5voxJpR1P",
        "outputId": "f629d36d-494f-4277-b9b1-679e77cb495b"
      },
      "execution_count": 24,
      "outputs": [
        {
          "output_type": "stream",
          "name": "stdout",
          "text": [
            "<class 'pandas.core.frame.DataFrame'>\n",
            "Int64Index: 9547 entries, 0 to 11149\n",
            "Data columns (total 9 columns):\n",
            " #   Column          Non-Null Count  Dtype  \n",
            "---  ------          --------------  -----  \n",
            " 0   id              9547 non-null   object \n",
            " 1   title           9547 non-null   object \n",
            " 2   likeCount       9547 non-null   float64\n",
            " 3   viewCount       9547 non-null   float64\n",
            " 4   commentCount    9547 non-null   float64\n",
            " 5   verified        9547 non-null   bool   \n",
            " 6   username        9547 non-null   object \n",
            " 7   category        9547 non-null   object \n",
            " 8   engagementRate  9547 non-null   float64\n",
            "dtypes: bool(1), float64(4), object(4)\n",
            "memory usage: 680.6+ KB\n"
          ]
        }
      ]
    },
    {
      "cell_type": "markdown",
      "source": [
        "# Data distribution visualization"
      ],
      "metadata": {
        "id": "X2tPFCnAlnmK"
      }
    },
    {
      "cell_type": "code",
      "source": [
        "skew_limit = 0.5\n",
        "skew_vals = data_modelling[['engagementRate','commentCount' ,'likeCount','viewCount']].skew()\n",
        "skew_cols = (skew_vals\n",
        "             .sort_values(ascending=False)\n",
        "             .to_frame()\n",
        "             .rename(columns={0:'Skew'})\n",
        "             .query('abs(Skew) > {0}'.format(skew_limit)))\n",
        "display(skew_cols.T)"
      ],
      "metadata": {
        "colab": {
          "base_uri": "https://localhost:8080/",
          "height": 81
        },
        "id": "3k6D24YtlrTU",
        "outputId": "4d2c7fc1-39a4-462a-928a-0d19f9d6b859"
      },
      "execution_count": 20,
      "outputs": [
        {
          "output_type": "display_data",
          "data": {
            "text/plain": [
              "      likeCount  viewCount  engagementRate  commentCount\n",
              "Skew  14.140684  12.971143        7.969269      2.054467"
            ],
            "text/html": [
              "\n",
              "\n",
              "  <div id=\"df-15303aac-5032-406e-bb70-bb60d3f35bec\">\n",
              "    <div class=\"colab-df-container\">\n",
              "      <div>\n",
              "<style scoped>\n",
              "    .dataframe tbody tr th:only-of-type {\n",
              "        vertical-align: middle;\n",
              "    }\n",
              "\n",
              "    .dataframe tbody tr th {\n",
              "        vertical-align: top;\n",
              "    }\n",
              "\n",
              "    .dataframe thead th {\n",
              "        text-align: right;\n",
              "    }\n",
              "</style>\n",
              "<table border=\"1\" class=\"dataframe\">\n",
              "  <thead>\n",
              "    <tr style=\"text-align: right;\">\n",
              "      <th></th>\n",
              "      <th>likeCount</th>\n",
              "      <th>viewCount</th>\n",
              "      <th>engagementRate</th>\n",
              "      <th>commentCount</th>\n",
              "    </tr>\n",
              "  </thead>\n",
              "  <tbody>\n",
              "    <tr>\n",
              "      <th>Skew</th>\n",
              "      <td>14.140684</td>\n",
              "      <td>12.971143</td>\n",
              "      <td>7.969269</td>\n",
              "      <td>2.054467</td>\n",
              "    </tr>\n",
              "  </tbody>\n",
              "</table>\n",
              "</div>\n",
              "      <button class=\"colab-df-convert\" onclick=\"convertToInteractive('df-15303aac-5032-406e-bb70-bb60d3f35bec')\"\n",
              "              title=\"Convert this dataframe to an interactive table.\"\n",
              "              style=\"display:none;\">\n",
              "\n",
              "  <svg xmlns=\"http://www.w3.org/2000/svg\" height=\"24px\"viewBox=\"0 0 24 24\"\n",
              "       width=\"24px\">\n",
              "    <path d=\"M0 0h24v24H0V0z\" fill=\"none\"/>\n",
              "    <path d=\"M18.56 5.44l.94 2.06.94-2.06 2.06-.94-2.06-.94-.94-2.06-.94 2.06-2.06.94zm-11 1L8.5 8.5l.94-2.06 2.06-.94-2.06-.94L8.5 2.5l-.94 2.06-2.06.94zm10 10l.94 2.06.94-2.06 2.06-.94-2.06-.94-.94-2.06-.94 2.06-2.06.94z\"/><path d=\"M17.41 7.96l-1.37-1.37c-.4-.4-.92-.59-1.43-.59-.52 0-1.04.2-1.43.59L10.3 9.45l-7.72 7.72c-.78.78-.78 2.05 0 2.83L4 21.41c.39.39.9.59 1.41.59.51 0 1.02-.2 1.41-.59l7.78-7.78 2.81-2.81c.8-.78.8-2.07 0-2.86zM5.41 20L4 18.59l7.72-7.72 1.47 1.35L5.41 20z\"/>\n",
              "  </svg>\n",
              "      </button>\n",
              "\n",
              "\n",
              "\n",
              "    <div id=\"df-da2e7ae1-80c1-401a-b243-3bdf98114178\">\n",
              "      <button class=\"colab-df-quickchart\" onclick=\"quickchart('df-da2e7ae1-80c1-401a-b243-3bdf98114178')\"\n",
              "              title=\"Suggest charts.\"\n",
              "              style=\"display:none;\">\n",
              "\n",
              "<svg xmlns=\"http://www.w3.org/2000/svg\" height=\"24px\"viewBox=\"0 0 24 24\"\n",
              "     width=\"24px\">\n",
              "    <g>\n",
              "        <path d=\"M19 3H5c-1.1 0-2 .9-2 2v14c0 1.1.9 2 2 2h14c1.1 0 2-.9 2-2V5c0-1.1-.9-2-2-2zM9 17H7v-7h2v7zm4 0h-2V7h2v10zm4 0h-2v-4h2v4z\"/>\n",
              "    </g>\n",
              "</svg>\n",
              "      </button>\n",
              "    </div>\n",
              "\n",
              "<style>\n",
              "  .colab-df-quickchart {\n",
              "    background-color: #E8F0FE;\n",
              "    border: none;\n",
              "    border-radius: 50%;\n",
              "    cursor: pointer;\n",
              "    display: none;\n",
              "    fill: #1967D2;\n",
              "    height: 32px;\n",
              "    padding: 0 0 0 0;\n",
              "    width: 32px;\n",
              "  }\n",
              "\n",
              "  .colab-df-quickchart:hover {\n",
              "    background-color: #E2EBFA;\n",
              "    box-shadow: 0px 1px 2px rgba(60, 64, 67, 0.3), 0px 1px 3px 1px rgba(60, 64, 67, 0.15);\n",
              "    fill: #174EA6;\n",
              "  }\n",
              "\n",
              "  [theme=dark] .colab-df-quickchart {\n",
              "    background-color: #3B4455;\n",
              "    fill: #D2E3FC;\n",
              "  }\n",
              "\n",
              "  [theme=dark] .colab-df-quickchart:hover {\n",
              "    background-color: #434B5C;\n",
              "    box-shadow: 0px 1px 3px 1px rgba(0, 0, 0, 0.15);\n",
              "    filter: drop-shadow(0px 1px 2px rgba(0, 0, 0, 0.3));\n",
              "    fill: #FFFFFF;\n",
              "  }\n",
              "</style>\n",
              "\n",
              "    <script>\n",
              "      async function quickchart(key) {\n",
              "        const containerElement = document.querySelector('#' + key);\n",
              "        const charts = await google.colab.kernel.invokeFunction(\n",
              "            'suggestCharts', [key], {});\n",
              "      }\n",
              "    </script>\n",
              "\n",
              "      <script>\n",
              "\n",
              "function displayQuickchartButton(domScope) {\n",
              "  let quickchartButtonEl =\n",
              "    domScope.querySelector('#df-da2e7ae1-80c1-401a-b243-3bdf98114178 button.colab-df-quickchart');\n",
              "  quickchartButtonEl.style.display =\n",
              "    google.colab.kernel.accessAllowed ? 'block' : 'none';\n",
              "}\n",
              "\n",
              "        displayQuickchartButton(document);\n",
              "      </script>\n",
              "      <style>\n",
              "    .colab-df-container {\n",
              "      display:flex;\n",
              "      flex-wrap:wrap;\n",
              "      gap: 12px;\n",
              "    }\n",
              "\n",
              "    .colab-df-convert {\n",
              "      background-color: #E8F0FE;\n",
              "      border: none;\n",
              "      border-radius: 50%;\n",
              "      cursor: pointer;\n",
              "      display: none;\n",
              "      fill: #1967D2;\n",
              "      height: 32px;\n",
              "      padding: 0 0 0 0;\n",
              "      width: 32px;\n",
              "    }\n",
              "\n",
              "    .colab-df-convert:hover {\n",
              "      background-color: #E2EBFA;\n",
              "      box-shadow: 0px 1px 2px rgba(60, 64, 67, 0.3), 0px 1px 3px 1px rgba(60, 64, 67, 0.15);\n",
              "      fill: #174EA6;\n",
              "    }\n",
              "\n",
              "    [theme=dark] .colab-df-convert {\n",
              "      background-color: #3B4455;\n",
              "      fill: #D2E3FC;\n",
              "    }\n",
              "\n",
              "    [theme=dark] .colab-df-convert:hover {\n",
              "      background-color: #434B5C;\n",
              "      box-shadow: 0px 1px 3px 1px rgba(0, 0, 0, 0.15);\n",
              "      filter: drop-shadow(0px 1px 2px rgba(0, 0, 0, 0.3));\n",
              "      fill: #FFFFFF;\n",
              "    }\n",
              "  </style>\n",
              "\n",
              "      <script>\n",
              "        const buttonEl =\n",
              "          document.querySelector('#df-15303aac-5032-406e-bb70-bb60d3f35bec button.colab-df-convert');\n",
              "        buttonEl.style.display =\n",
              "          google.colab.kernel.accessAllowed ? 'block' : 'none';\n",
              "\n",
              "        async function convertToInteractive(key) {\n",
              "          const element = document.querySelector('#df-15303aac-5032-406e-bb70-bb60d3f35bec');\n",
              "          const dataTable =\n",
              "            await google.colab.kernel.invokeFunction('convertToInteractive',\n",
              "                                                     [key], {});\n",
              "          if (!dataTable) return;\n",
              "\n",
              "          const docLinkHtml = 'Like what you see? Visit the ' +\n",
              "            '<a target=\"_blank\" href=https://colab.research.google.com/notebooks/data_table.ipynb>data table notebook</a>'\n",
              "            + ' to learn more about interactive tables.';\n",
              "          element.innerHTML = '';\n",
              "          dataTable['output_type'] = 'display_data';\n",
              "          await google.colab.output.renderOutput(dataTable, element);\n",
              "          const docLink = document.createElement('div');\n",
              "          docLink.innerHTML = docLinkHtml;\n",
              "          element.appendChild(docLink);\n",
              "        }\n",
              "      </script>\n",
              "    </div>\n",
              "  </div>\n"
            ]
          },
          "metadata": {}
        }
      ]
    },
    {
      "cell_type": "code",
      "source": [
        "fig, (ax_positive, ax_target, ax_negative) = plt.subplots(1, 3, figsize=(15, 5))\n",
        "sns.histplot(data['likeCount'],kde=True, stat='density', linewidth=0, color = '#236AB9', ax=ax_positive)\n",
        "sns.histplot(data['viewCount'],kde=True, stat='density', linewidth=0, color = 'blue', ax=ax_target)\n",
        "sns.histplot(data['commentCount'], kde=True, stat='density', linewidth=0,color='#B85B14', ax=ax_negative)\n",
        "plt.show()"
      ],
      "metadata": {
        "colab": {
          "base_uri": "https://localhost:8080/",
          "height": 480
        },
        "id": "7HXggp49l9hO",
        "outputId": "3c87e8ef-f584-480f-85ac-0e7f569424b2"
      },
      "execution_count": 21,
      "outputs": [
        {
          "output_type": "display_data",
          "data": {
            "text/plain": [
              "<Figure size 1500x500 with 3 Axes>"
            ],
            "image/png": "[encoded data removed]"
          },
          "metadata": {}
        }
      ]
    },
    {
      "cell_type": "markdown",
      "source": [
        "# Demographic_based Recommender"
      ],
      "metadata": {
        "id": "Bd5z3tWvm6GX"
      }
    },
    {
      "cell_type": "markdown",
      "source": [
        "## Ranking content of videos"
      ],
      "metadata": {
        "id": "asAFq3JIEKtm"
      }
    },
    {
      "cell_type": "code",
      "source": [
        "# Calculate popularity points function\n",
        "def ranked_points(df):\n",
        "    likeCount = df['likeCount']\n",
        "    viewCount = df['viewCount']\n",
        "    commentCount = df['commentCount']\n",
        "    return commentCount + 0.5*likeCount + 0.1*viewCount"
      ],
      "metadata": {
        "id": "DgjlYUMxmnVb"
      },
      "execution_count": null,
      "outputs": []
    },
    {
      "cell_type": "code",
      "source": [
        "# Define a new feature 'point' and calculate its value with `ranked_points`\n",
        "data_modelling['point'] = data_modelling.apply(ranked_points, axis=1)"
      ],
      "metadata": {
        "id": "cD_Bh5Q6ERpm"
      },
      "execution_count": null,
      "outputs": []
    },
    {
      "cell_type": "code",
      "source": [
        "data_modelling.info()"
      ],
      "metadata": {
        "colab": {
          "base_uri": "https://localhost:8080/"
        },
        "id": "TMiUpuyEGIcY",
        "outputId": "b3d3aa5c-66c0-47d5-c3c3-4f5541d2caf8"
      },
      "execution_count": null,
      "outputs": [
        {
          "output_type": "stream",
          "name": "stdout",
          "text": [
            "<class 'pandas.core.frame.DataFrame'>\n",
            "Int64Index: 9547 entries, 0 to 11149\n",
            "Data columns (total 9 columns):\n",
            " #   Column          Non-Null Count  Dtype  \n",
            "---  ------          --------------  -----  \n",
            " 0   id              9547 non-null   object \n",
            " 1   title           9547 non-null   object \n",
            " 2   likeCount       9547 non-null   float64\n",
            " 3   viewCount       9547 non-null   float64\n",
            " 4   commentCount    9547 non-null   float64\n",
            " 5   verified        9547 non-null   bool   \n",
            " 6   category        9547 non-null   object \n",
            " 7   engagementRate  9547 non-null   float64\n",
            " 8   point           9547 non-null   float64\n",
            "dtypes: bool(1), float64(5), object(3)\n",
            "memory usage: 680.6+ KB\n"
          ]
        }
      ]
    },
    {
      "cell_type": "code",
      "source": [
        "# Function to takes top 10 youtube video from input category\n",
        "def get_top_10_by_category(dataframe, category):\n",
        "    # Filter the dataframe by the specified category\n",
        "    filtered_df = dataframe[dataframe['category'] == category]\n",
        "    # Sort the filtered dataframe by 'point' column in descending order\n",
        "    top_10_rows = filtered_df.sort_values(['verified','point'], ascending=False).head(10)\n",
        "    # Select the top 10 rows with the highest points\n",
        "    return top_10_rows"
      ],
      "metadata": {
        "id": "qwgeVdj7F--Q"
      },
      "execution_count": null,
      "outputs": []
    },
    {
      "cell_type": "code",
      "source": [
        "category_name = 'Science & Technology'  # Specify the category you want to retrieve the top 10 rows for\n",
        "top_10_category_rows = get_top_10_by_category(data_modelling, category_name)\n",
        "top_10_category_rows"
      ],
      "metadata": {
        "colab": {
          "base_uri": "https://localhost:8080/",
          "height": 363
        },
        "id": "UKyrwwHUFcfZ",
        "outputId": "9ff5f7f0-043a-4615-ade3-5c66d81b711f"
      },
      "execution_count": null,
      "outputs": [
        {
          "output_type": "execute_result",
          "data": {
            "text/plain": [
              "               id                                              title  \\\n",
              "2645  -I63SWT55bk                      How glass materials are made    \n",
              "2757  15dn1SzpmGo  Compilation Of Best Candy Crushes With Hydraul...   \n",
              "4513  KRjcEoadiUE         Making Diamond out of Trash - Sand Casting   \n",
              "6589  mGpB9oP2Rzc  Crushing Candles and Crayons With Hydraulic Pr...   \n",
              "3676  Hvh_4i1ldKY                        대한민국 16강 가즈아!! 꿈은 이루어진다!!!    \n",
              "4873  i1vfiOb5IbI                              Never leave your pets   \n",
              "3797  NItHfV7aYZQ  Đừng chỉ nhìn hành động mà nghĩ sai về người k...   \n",
              "1933  uRxKrj5EqDk                      3D printed dragon flight test   \n",
              "6574  2bkB3it-Dgg  How long has it been since you cleaned your ke...   \n",
              "5704  HbZYI1-LK-A         ĐIỆN THOẠI CỦA BẠN ĐÃ SỤT GIÁ NHƯ THẾ NÀO    \n",
              "\n",
              "      likeCount    viewCount  commentCount  verified              category  \\\n",
              "2645  3666034.0  215337384.0           5.0      True  Science & Technology   \n",
              "2757  2907164.0  218451500.0           6.0      True  Science & Technology   \n",
              "4513  4730734.0   85702511.0           6.0      True  Science & Technology   \n",
              "6589  1429528.0   75391274.0           1.0      True  Science & Technology   \n",
              "3676  2275135.0   67979471.0          19.0      True  Science & Technology   \n",
              "4873  1805578.0   70099320.0           9.0      True  Science & Technology   \n",
              "3797   633472.0   21318278.0           2.0      True  Science & Technology   \n",
              "1933   530635.0   16563599.0           1.0      True  Science & Technology   \n",
              "6574   288964.0   15780774.0         849.0      True  Science & Technology   \n",
              "5704   245291.0   10474102.0         445.0      True  Science & Technology   \n",
              "\n",
              "      engagementRate       point  \n",
              "2645        0.017025  23366760.4  \n",
              "2757        0.013308  23298738.0  \n",
              "4513        0.055200  10935624.1  \n",
              "6589        0.018961   8253892.4  \n",
              "3676        0.033468   7935533.6  \n",
              "4873        0.025758   7912730.0  \n",
              "3797        0.029715   2448565.8  \n",
              "1933        0.032036   1921678.4  \n",
              "6574        0.018365   1723408.4  \n",
              "5704        0.023461   1170500.7  "
            ],
            "text/html": [
              "\n",
              "\n",
              "  <div id=\"df-ed36bed7-9028-4fdc-bdc1-14bd443bb8fc\">\n",
              "    <div class=\"colab-df-container\">\n",
              "      <div>\n",
              "<style scoped>\n",
              "    .dataframe tbody tr th:only-of-type {\n",
              "        vertical-align: middle;\n",
              "    }\n",
              "\n",
              "    .dataframe tbody tr th {\n",
              "        vertical-align: top;\n",
              "    }\n",
              "\n",
              "    .dataframe thead th {\n",
              "        text-align: right;\n",
              "    }\n",
              "</style>\n",
              "<table border=\"1\" class=\"dataframe\">\n",
              "  <thead>\n",
              "    <tr style=\"text-align: right;\">\n",
              "      <th></th>\n",
              "      <th>id</th>\n",
              "      <th>title</th>\n",
              "      <th>likeCount</th>\n",
              "      <th>viewCount</th>\n",
              "      <th>commentCount</th>\n",
              "      <th>verified</th>\n",
              "      <th>category</th>\n",
              "      <th>engagementRate</th>\n",
              "      <th>point</th>\n",
              "    </tr>\n",
              "  </thead>\n",
              "  <tbody>\n",
              "    <tr>\n",
              "      <th>2645</th>\n",
              "      <td>-I63SWT55bk</td>\n",
              "      <td>How glass materials are made</td>\n",
              "      <td>3666034.0</td>\n",
              "      <td>215337384.0</td>\n",
              "      <td>5.0</td>\n",
              "      <td>True</td>\n",
              "      <td>Science &amp; Technology</td>\n",
              "      <td>0.017025</td>\n",
              "      <td>23366760.4</td>\n",
              "    </tr>\n",
              "    <tr>\n",
              "      <th>2757</th>\n",
              "      <td>15dn1SzpmGo</td>\n",
              "      <td>Compilation Of Best Candy Crushes With Hydraul...</td>\n",
              "      <td>2907164.0</td>\n",
              "      <td>218451500.0</td>\n",
              "      <td>6.0</td>\n",
              "      <td>True</td>\n",
              "      <td>Science &amp; Technology</td>\n",
              "      <td>0.013308</td>\n",
              "      <td>23298738.0</td>\n",
              "    </tr>\n",
              "    <tr>\n",
              "      <th>4513</th>\n",
              "      <td>KRjcEoadiUE</td>\n",
              "      <td>Making Diamond out of Trash - Sand Casting</td>\n",
              "      <td>4730734.0</td>\n",
              "      <td>85702511.0</td>\n",
              "      <td>6.0</td>\n",
              "      <td>True</td>\n",
              "      <td>Science &amp; Technology</td>\n",
              "      <td>0.055200</td>\n",
              "      <td>10935624.1</td>\n",
              "    </tr>\n",
              "    <tr>\n",
              "      <th>6589</th>\n",
              "      <td>mGpB9oP2Rzc</td>\n",
              "      <td>Crushing Candles and Crayons With Hydraulic Pr...</td>\n",
              "      <td>1429528.0</td>\n",
              "      <td>75391274.0</td>\n",
              "      <td>1.0</td>\n",
              "      <td>True</td>\n",
              "      <td>Science &amp; Technology</td>\n",
              "      <td>0.018961</td>\n",
              "      <td>8253892.4</td>\n",
              "    </tr>\n",
              "    <tr>\n",
              "      <th>3676</th>\n",
              "      <td>Hvh_4i1ldKY</td>\n",
              "      <td>대한민국 16강 가즈아!! 꿈은 이루어진다!!!</td>\n",
              "      <td>2275135.0</td>\n",
              "      <td>67979471.0</td>\n",
              "      <td>19.0</td>\n",
              "      <td>True</td>\n",
              "      <td>Science &amp; Technology</td>\n",
              "      <td>0.033468</td>\n",
              "      <td>7935533.6</td>\n",
              "    </tr>\n",
              "    <tr>\n",
              "      <th>4873</th>\n",
              "      <td>i1vfiOb5IbI</td>\n",
              "      <td>Never leave your pets</td>\n",
              "      <td>1805578.0</td>\n",
              "      <td>70099320.0</td>\n",
              "      <td>9.0</td>\n",
              "      <td>True</td>\n",
              "      <td>Science &amp; Technology</td>\n",
              "      <td>0.025758</td>\n",
              "      <td>7912730.0</td>\n",
              "    </tr>\n",
              "    <tr>\n",
              "      <th>3797</th>\n",
              "      <td>NItHfV7aYZQ</td>\n",
              "      <td>Đừng chỉ nhìn hành động mà nghĩ sai về người k...</td>\n",
              "      <td>633472.0</td>\n",
              "      <td>21318278.0</td>\n",
              "      <td>2.0</td>\n",
              "      <td>True</td>\n",
              "      <td>Science &amp; Technology</td>\n",
              "      <td>0.029715</td>\n",
              "      <td>2448565.8</td>\n",
              "    </tr>\n",
              "    <tr>\n",
              "      <th>1933</th>\n",
              "      <td>uRxKrj5EqDk</td>\n",
              "      <td>3D printed dragon flight test</td>\n",
              "      <td>530635.0</td>\n",
              "      <td>16563599.0</td>\n",
              "      <td>1.0</td>\n",
              "      <td>True</td>\n",
              "      <td>Science &amp; Technology</td>\n",
              "      <td>0.032036</td>\n",
              "      <td>1921678.4</td>\n",
              "    </tr>\n",
              "    <tr>\n",
              "      <th>6574</th>\n",
              "      <td>2bkB3it-Dgg</td>\n",
              "      <td>How long has it been since you cleaned your ke...</td>\n",
              "      <td>288964.0</td>\n",
              "      <td>15780774.0</td>\n",
              "      <td>849.0</td>\n",
              "      <td>True</td>\n",
              "      <td>Science &amp; Technology</td>\n",
              "      <td>0.018365</td>\n",
              "      <td>1723408.4</td>\n",
              "    </tr>\n",
              "    <tr>\n",
              "      <th>5704</th>\n",
              "      <td>HbZYI1-LK-A</td>\n",
              "      <td>ĐIỆN THOẠI CỦA BẠN ĐÃ SỤT GIÁ NHƯ THẾ NÀO</td>\n",
              "      <td>245291.0</td>\n",
              "      <td>10474102.0</td>\n",
              "      <td>445.0</td>\n",
              "      <td>True</td>\n",
              "      <td>Science &amp; Technology</td>\n",
              "      <td>0.023461</td>\n",
              "      <td>1170500.7</td>\n",
              "    </tr>\n",
              "  </tbody>\n",
              "</table>\n",
              "</div>\n",
              "      <button class=\"colab-df-convert\" onclick=\"convertToInteractive('df-ed36bed7-9028-4fdc-bdc1-14bd443bb8fc')\"\n",
              "              title=\"Convert this dataframe to an interactive table.\"\n",
              "              style=\"display:none;\">\n",
              "\n",
              "  <svg xmlns=\"http://www.w3.org/2000/svg\" height=\"24px\"viewBox=\"0 0 24 24\"\n",
              "       width=\"24px\">\n",
              "    <path d=\"M0 0h24v24H0V0z\" fill=\"none\"/>\n",
              "    <path d=\"M18.56 5.44l.94 2.06.94-2.06 2.06-.94-2.06-.94-.94-2.06-.94 2.06-2.06.94zm-11 1L8.5 8.5l.94-2.06 2.06-.94-2.06-.94L8.5 2.5l-.94 2.06-2.06.94zm10 10l.94 2.06.94-2.06 2.06-.94-2.06-.94-.94-2.06-.94 2.06-2.06.94z\"/><path d=\"M17.41 7.96l-1.37-1.37c-.4-.4-.92-.59-1.43-.59-.52 0-1.04.2-1.43.59L10.3 9.45l-7.72 7.72c-.78.78-.78 2.05 0 2.83L4 21.41c.39.39.9.59 1.41.59.51 0 1.02-.2 1.41-.59l7.78-7.78 2.81-2.81c.8-.78.8-2.07 0-2.86zM5.41 20L4 18.59l7.72-7.72 1.47 1.35L5.41 20z\"/>\n",
              "  </svg>\n",
              "      </button>\n",
              "\n",
              "\n",
              "\n",
              "    <div id=\"df-f17af083-f53c-4033-8df3-08da18987fe3\">\n",
              "      <button class=\"colab-df-quickchart\" onclick=\"quickchart('df-f17af083-f53c-4033-8df3-08da18987fe3')\"\n",
              "              title=\"Suggest charts.\"\n",
              "              style=\"display:none;\">\n",
              "\n",
              "<svg xmlns=\"http://www.w3.org/2000/svg\" height=\"24px\"viewBox=\"0 0 24 24\"\n",
              "     width=\"24px\">\n",
              "    <g>\n",
              "        <path d=\"M19 3H5c-1.1 0-2 .9-2 2v14c0 1.1.9 2 2 2h14c1.1 0 2-.9 2-2V5c0-1.1-.9-2-2-2zM9 17H7v-7h2v7zm4 0h-2V7h2v10zm4 0h-2v-4h2v4z\"/>\n",
              "    </g>\n",
              "</svg>\n",
              "      </button>\n",
              "    </div>\n",
              "\n",
              "<style>\n",
              "  .colab-df-quickchart {\n",
              "    background-color: #E8F0FE;\n",
              "    border: none;\n",
              "    border-radius: 50%;\n",
              "    cursor: pointer;\n",
              "    display: none;\n",
              "    fill: #1967D2;\n",
              "    height: 32px;\n",
              "    padding: 0 0 0 0;\n",
              "    width: 32px;\n",
              "  }\n",
              "\n",
              "  .colab-df-quickchart:hover {\n",
              "    background-color: #E2EBFA;\n",
              "    box-shadow: 0px 1px 2px rgba(60, 64, 67, 0.3), 0px 1px 3px 1px rgba(60, 64, 67, 0.15);\n",
              "    fill: #174EA6;\n",
              "  }\n",
              "\n",
              "  [theme=dark] .colab-df-quickchart {\n",
              "    background-color: #3B4455;\n",
              "    fill: #D2E3FC;\n",
              "  }\n",
              "\n",
              "  [theme=dark] .colab-df-quickchart:hover {\n",
              "    background-color: #434B5C;\n",
              "    box-shadow: 0px 1px 3px 1px rgba(0, 0, 0, 0.15);\n",
              "    filter: drop-shadow(0px 1px 2px rgba(0, 0, 0, 0.3));\n",
              "    fill: #FFFFFF;\n",
              "  }\n",
              "</style>\n",
              "\n",
              "    <script>\n",
              "      async function quickchart(key) {\n",
              "        const containerElement = document.querySelector('#' + key);\n",
              "        const charts = await google.colab.kernel.invokeFunction(\n",
              "            'suggestCharts', [key], {});\n",
              "      }\n",
              "    </script>\n",
              "\n",
              "      <script>\n",
              "\n",
              "function displayQuickchartButton(domScope) {\n",
              "  let quickchartButtonEl =\n",
              "    domScope.querySelector('#df-f17af083-f53c-4033-8df3-08da18987fe3 button.colab-df-quickchart');\n",
              "  quickchartButtonEl.style.display =\n",
              "    google.colab.kernel.accessAllowed ? 'block' : 'none';\n",
              "}\n",
              "\n",
              "        displayQuickchartButton(document);\n",
              "      </script>\n",
              "      <style>\n",
              "    .colab-df-container {\n",
              "      display:flex;\n",
              "      flex-wrap:wrap;\n",
              "      gap: 12px;\n",
              "    }\n",
              "\n",
              "    .colab-df-convert {\n",
              "      background-color: #E8F0FE;\n",
              "      border: none;\n",
              "      border-radius: 50%;\n",
              "      cursor: pointer;\n",
              "      display: none;\n",
              "      fill: #1967D2;\n",
              "      height: 32px;\n",
              "      padding: 0 0 0 0;\n",
              "      width: 32px;\n",
              "    }\n",
              "\n",
              "    .colab-df-convert:hover {\n",
              "      background-color: #E2EBFA;\n",
              "      box-shadow: 0px 1px 2px rgba(60, 64, 67, 0.3), 0px 1px 3px 1px rgba(60, 64, 67, 0.15);\n",
              "      fill: #174EA6;\n",
              "    }\n",
              "\n",
              "    [theme=dark] .colab-df-convert {\n",
              "      background-color: #3B4455;\n",
              "      fill: #D2E3FC;\n",
              "    }\n",
              "\n",
              "    [theme=dark] .colab-df-convert:hover {\n",
              "      background-color: #434B5C;\n",
              "      box-shadow: 0px 1px 3px 1px rgba(0, 0, 0, 0.15);\n",
              "      filter: drop-shadow(0px 1px 2px rgba(0, 0, 0, 0.3));\n",
              "      fill: #FFFFFF;\n",
              "    }\n",
              "  </style>\n",
              "\n",
              "      <script>\n",
              "        const buttonEl =\n",
              "          document.querySelector('#df-ed36bed7-9028-4fdc-bdc1-14bd443bb8fc button.colab-df-convert');\n",
              "        buttonEl.style.display =\n",
              "          google.colab.kernel.accessAllowed ? 'block' : 'none';\n",
              "\n",
              "        async function convertToInteractive(key) {\n",
              "          const element = document.querySelector('#df-ed36bed7-9028-4fdc-bdc1-14bd443bb8fc');\n",
              "          const dataTable =\n",
              "            await google.colab.kernel.invokeFunction('convertToInteractive',\n",
              "                                                     [key], {});\n",
              "          if (!dataTable) return;\n",
              "\n",
              "          const docLinkHtml = 'Like what you see? Visit the ' +\n",
              "            '<a target=\"_blank\" href=https://colab.research.google.com/notebooks/data_table.ipynb>data table notebook</a>'\n",
              "            + ' to learn more about interactive tables.';\n",
              "          element.innerHTML = '';\n",
              "          dataTable['output_type'] = 'display_data';\n",
              "          await google.colab.output.renderOutput(dataTable, element);\n",
              "          const docLink = document.createElement('div');\n",
              "          docLink.innerHTML = docLinkHtml;\n",
              "          element.appendChild(docLink);\n",
              "        }\n",
              "      </script>\n",
              "    </div>\n",
              "  </div>\n"
            ]
          },
          "metadata": {},
          "execution_count": 22
        }
      ]
    },
    {
      "cell_type": "code",
      "source": [
        "categories"
      ],
      "metadata": {
        "colab": {
          "base_uri": "https://localhost:8080/"
        },
        "id": "OWvU17eFG25A",
        "outputId": "decfa23f-3634-462f-94cc-97d1e8e0c449"
      },
      "execution_count": null,
      "outputs": [
        {
          "output_type": "execute_result",
          "data": {
            "text/plain": [
              "array(['Entertainment', 'People & Blogs', 'News & Politics',\n",
              "       'Pets & Animals', 'Music', 'Gaming', 'Film & Animation',\n",
              "       'Howto & Style', nan, 'Comedy', 'Sports', 'Travel & Events',\n",
              "       'Education', 'Science & Technology', None, 'Autos & Vehicles'],\n",
              "      dtype=object)"
            ]
          },
          "metadata": {},
          "execution_count": 23
        }
      ]
    },
    {
      "cell_type": "code",
      "source": [
        "data1.video[2645]"
      ],
      "metadata": {
        "colab": {
          "base_uri": "https://localhost:8080/"
        },
        "id": "7qjSeV-THhwe",
        "outputId": "d409b916-405d-448d-aa45-2fe814d116fa"
      },
      "execution_count": null,
      "outputs": [
        {
          "output_type": "execute_result",
          "data": {
            "text/plain": [
              "[{'link': 'https://www.youtube.com/watch?v=-I63SWT55bk',\n",
              "  'thumbnail': 'https://i.ytimg.com/vi/-I63SWT55bk/hq2.jpg'}]"
            ]
          },
          "metadata": {},
          "execution_count": 25
        }
      ]
    },
    {
      "cell_type": "markdown",
      "source": [
        "# Content-Based Recommender"
      ],
      "metadata": {
        "id": "v9ITGuYum2ot"
      }
    },
    {
      "cell_type": "code",
      "source": [
        "data_modelling.head()"
      ],
      "metadata": {
        "colab": {
          "base_uri": "https://localhost:8080/",
          "height": 206
        },
        "outputId": "2f9fd4cf-3e55-4e46-f883-bd5c1408cf35",
        "id": "hGe7keMznPh1"
      },
      "execution_count": 25,
      "outputs": [
        {
          "output_type": "execute_result",
          "data": {
            "text/plain": [
              "            id                                              title  likeCount  \\\n",
              "0  alG1ijCs5ZM                                       Best friend    114221.0   \n",
              "1  QObXArTKxkw  Phim ngắn| Hào quang quý cô - Tập 10 | Mai Tha...      926.0   \n",
              "2  itmQmrECkvc                            Người mẹ phiền phức P2      2214.0   \n",
              "3  eE2gwWHFreM                        Cho xin miếng đi màaa 👉🏻👈🏻    145658.0   \n",
              "4  JHQtcvzTSTs                    Tiệm Bánh Tuổi Thơ Bất Ổn P133    236360.0   \n",
              "\n",
              "   viewCount  commentCount  verified            username        category  \\\n",
              "0  3043710.0           1.0      True           HERO TEAM   Entertainment   \n",
              "1    55408.0           5.0     False      Mai Thanh Nhàn  People & Blogs   \n",
              "2    94244.0          18.0      True  Vân Vân Và Vân Vân   Entertainment   \n",
              "3  3779883.0           2.0      True           HERO TEAM   Entertainment   \n",
              "4  7632125.0         549.0     False        Cơm Tuổi Thơ  People & Blogs   \n",
              "\n",
              "   engagementRate  \n",
              "0        0.037527  \n",
              "1        0.016803  \n",
              "2        0.023683  \n",
              "3        0.038536  \n",
              "4        0.031041  "
            ],
            "text/html": [
              "\n",
              "\n",
              "  <div id=\"df-19637740-e73f-48c8-8663-31a14b57858f\">\n",
              "    <div class=\"colab-df-container\">\n",
              "      <div>\n",
              "<style scoped>\n",
              "    .dataframe tbody tr th:only-of-type {\n",
              "        vertical-align: middle;\n",
              "    }\n",
              "\n",
              "    .dataframe tbody tr th {\n",
              "        vertical-align: top;\n",
              "    }\n",
              "\n",
              "    .dataframe thead th {\n",
              "        text-align: right;\n",
              "    }\n",
              "</style>\n",
              "<table border=\"1\" class=\"dataframe\">\n",
              "  <thead>\n",
              "    <tr style=\"text-align: right;\">\n",
              "      <th></th>\n",
              "      <th>id</th>\n",
              "      <th>title</th>\n",
              "      <th>likeCount</th>\n",
              "      <th>viewCount</th>\n",
              "      <th>commentCount</th>\n",
              "      <th>verified</th>\n",
              "      <th>username</th>\n",
              "      <th>category</th>\n",
              "      <th>engagementRate</th>\n",
              "    </tr>\n",
              "  </thead>\n",
              "  <tbody>\n",
              "    <tr>\n",
              "      <th>0</th>\n",
              "      <td>alG1ijCs5ZM</td>\n",
              "      <td>Best friend</td>\n",
              "      <td>114221.0</td>\n",
              "      <td>3043710.0</td>\n",
              "      <td>1.0</td>\n",
              "      <td>True</td>\n",
              "      <td>HERO TEAM</td>\n",
              "      <td>Entertainment</td>\n",
              "      <td>0.037527</td>\n",
              "    </tr>\n",
              "    <tr>\n",
              "      <th>1</th>\n",
              "      <td>QObXArTKxkw</td>\n",
              "      <td>Phim ngắn| Hào quang quý cô - Tập 10 | Mai Tha...</td>\n",
              "      <td>926.0</td>\n",
              "      <td>55408.0</td>\n",
              "      <td>5.0</td>\n",
              "      <td>False</td>\n",
              "      <td>Mai Thanh Nhàn</td>\n",
              "      <td>People &amp; Blogs</td>\n",
              "      <td>0.016803</td>\n",
              "    </tr>\n",
              "    <tr>\n",
              "      <th>2</th>\n",
              "      <td>itmQmrECkvc</td>\n",
              "      <td>Người mẹ phiền phức P2</td>\n",
              "      <td>2214.0</td>\n",
              "      <td>94244.0</td>\n",
              "      <td>18.0</td>\n",
              "      <td>True</td>\n",
              "      <td>Vân Vân Và Vân Vân</td>\n",
              "      <td>Entertainment</td>\n",
              "      <td>0.023683</td>\n",
              "    </tr>\n",
              "    <tr>\n",
              "      <th>3</th>\n",
              "      <td>eE2gwWHFreM</td>\n",
              "      <td>Cho xin miếng đi màaa 👉🏻👈🏻</td>\n",
              "      <td>145658.0</td>\n",
              "      <td>3779883.0</td>\n",
              "      <td>2.0</td>\n",
              "      <td>True</td>\n",
              "      <td>HERO TEAM</td>\n",
              "      <td>Entertainment</td>\n",
              "      <td>0.038536</td>\n",
              "    </tr>\n",
              "    <tr>\n",
              "      <th>4</th>\n",
              "      <td>JHQtcvzTSTs</td>\n",
              "      <td>Tiệm Bánh Tuổi Thơ Bất Ổn P133</td>\n",
              "      <td>236360.0</td>\n",
              "      <td>7632125.0</td>\n",
              "      <td>549.0</td>\n",
              "      <td>False</td>\n",
              "      <td>Cơm Tuổi Thơ</td>\n",
              "      <td>People &amp; Blogs</td>\n",
              "      <td>0.031041</td>\n",
              "    </tr>\n",
              "  </tbody>\n",
              "</table>\n",
              "</div>\n",
              "      <button class=\"colab-df-convert\" onclick=\"convertToInteractive('df-19637740-e73f-48c8-8663-31a14b57858f')\"\n",
              "              title=\"Convert this dataframe to an interactive table.\"\n",
              "              style=\"display:none;\">\n",
              "\n",
              "  <svg xmlns=\"http://www.w3.org/2000/svg\" height=\"24px\"viewBox=\"0 0 24 24\"\n",
              "       width=\"24px\">\n",
              "    <path d=\"M0 0h24v24H0V0z\" fill=\"none\"/>\n",
              "    <path d=\"M18.56 5.44l.94 2.06.94-2.06 2.06-.94-2.06-.94-.94-2.06-.94 2.06-2.06.94zm-11 1L8.5 8.5l.94-2.06 2.06-.94-2.06-.94L8.5 2.5l-.94 2.06-2.06.94zm10 10l.94 2.06.94-2.06 2.06-.94-2.06-.94-.94-2.06-.94 2.06-2.06.94z\"/><path d=\"M17.41 7.96l-1.37-1.37c-.4-.4-.92-.59-1.43-.59-.52 0-1.04.2-1.43.59L10.3 9.45l-7.72 7.72c-.78.78-.78 2.05 0 2.83L4 21.41c.39.39.9.59 1.41.59.51 0 1.02-.2 1.41-.59l7.78-7.78 2.81-2.81c.8-.78.8-2.07 0-2.86zM5.41 20L4 18.59l7.72-7.72 1.47 1.35L5.41 20z\"/>\n",
              "  </svg>\n",
              "      </button>\n",
              "\n",
              "\n",
              "\n",
              "    <div id=\"df-3c2e1124-d090-4ecd-b07d-f92c6957d76d\">\n",
              "      <button class=\"colab-df-quickchart\" onclick=\"quickchart('df-3c2e1124-d090-4ecd-b07d-f92c6957d76d')\"\n",
              "              title=\"Suggest charts.\"\n",
              "              style=\"display:none;\">\n",
              "\n",
              "<svg xmlns=\"http://www.w3.org/2000/svg\" height=\"24px\"viewBox=\"0 0 24 24\"\n",
              "     width=\"24px\">\n",
              "    <g>\n",
              "        <path d=\"M19 3H5c-1.1 0-2 .9-2 2v14c0 1.1.9 2 2 2h14c1.1 0 2-.9 2-2V5c0-1.1-.9-2-2-2zM9 17H7v-7h2v7zm4 0h-2V7h2v10zm4 0h-2v-4h2v4z\"/>\n",
              "    </g>\n",
              "</svg>\n",
              "      </button>\n",
              "    </div>\n",
              "\n",
              "<style>\n",
              "  .colab-df-quickchart {\n",
              "    background-color: #E8F0FE;\n",
              "    border: none;\n",
              "    border-radius: 50%;\n",
              "    cursor: pointer;\n",
              "    display: none;\n",
              "    fill: #1967D2;\n",
              "    height: 32px;\n",
              "    padding: 0 0 0 0;\n",
              "    width: 32px;\n",
              "  }\n",
              "\n",
              "  .colab-df-quickchart:hover {\n",
              "    background-color: #E2EBFA;\n",
              "    box-shadow: 0px 1px 2px rgba(60, 64, 67, 0.3), 0px 1px 3px 1px rgba(60, 64, 67, 0.15);\n",
              "    fill: #174EA6;\n",
              "  }\n",
              "\n",
              "  [theme=dark] .colab-df-quickchart {\n",
              "    background-color: #3B4455;\n",
              "    fill: #D2E3FC;\n",
              "  }\n",
              "\n",
              "  [theme=dark] .colab-df-quickchart:hover {\n",
              "    background-color: #434B5C;\n",
              "    box-shadow: 0px 1px 3px 1px rgba(0, 0, 0, 0.15);\n",
              "    filter: drop-shadow(0px 1px 2px rgba(0, 0, 0, 0.3));\n",
              "    fill: #FFFFFF;\n",
              "  }\n",
              "</style>\n",
              "\n",
              "    <script>\n",
              "      async function quickchart(key) {\n",
              "        const containerElement = document.querySelector('#' + key);\n",
              "        const charts = await google.colab.kernel.invokeFunction(\n",
              "            'suggestCharts', [key], {});\n",
              "      }\n",
              "    </script>\n",
              "\n",
              "      <script>\n",
              "\n",
              "function displayQuickchartButton(domScope) {\n",
              "  let quickchartButtonEl =\n",
              "    domScope.querySelector('#df-3c2e1124-d090-4ecd-b07d-f92c6957d76d button.colab-df-quickchart');\n",
              "  quickchartButtonEl.style.display =\n",
              "    google.colab.kernel.accessAllowed ? 'block' : 'none';\n",
              "}\n",
              "\n",
              "        displayQuickchartButton(document);\n",
              "      </script>\n",
              "      <style>\n",
              "    .colab-df-container {\n",
              "      display:flex;\n",
              "      flex-wrap:wrap;\n",
              "      gap: 12px;\n",
              "    }\n",
              "\n",
              "    .colab-df-convert {\n",
              "      background-color: #E8F0FE;\n",
              "      border: none;\n",
              "      border-radius: 50%;\n",
              "      cursor: pointer;\n",
              "      display: none;\n",
              "      fill: #1967D2;\n",
              "      height: 32px;\n",
              "      padding: 0 0 0 0;\n",
              "      width: 32px;\n",
              "    }\n",
              "\n",
              "    .colab-df-convert:hover {\n",
              "      background-color: #E2EBFA;\n",
              "      box-shadow: 0px 1px 2px rgba(60, 64, 67, 0.3), 0px 1px 3px 1px rgba(60, 64, 67, 0.15);\n",
              "      fill: #174EA6;\n",
              "    }\n",
              "\n",
              "    [theme=dark] .colab-df-convert {\n",
              "      background-color: #3B4455;\n",
              "      fill: #D2E3FC;\n",
              "    }\n",
              "\n",
              "    [theme=dark] .colab-df-convert:hover {\n",
              "      background-color: #434B5C;\n",
              "      box-shadow: 0px 1px 3px 1px rgba(0, 0, 0, 0.15);\n",
              "      filter: drop-shadow(0px 1px 2px rgba(0, 0, 0, 0.3));\n",
              "      fill: #FFFFFF;\n",
              "    }\n",
              "  </style>\n",
              "\n",
              "      <script>\n",
              "        const buttonEl =\n",
              "          document.querySelector('#df-19637740-e73f-48c8-8663-31a14b57858f button.colab-df-convert');\n",
              "        buttonEl.style.display =\n",
              "          google.colab.kernel.accessAllowed ? 'block' : 'none';\n",
              "\n",
              "        async function convertToInteractive(key) {\n",
              "          const element = document.querySelector('#df-19637740-e73f-48c8-8663-31a14b57858f');\n",
              "          const dataTable =\n",
              "            await google.colab.kernel.invokeFunction('convertToInteractive',\n",
              "                                                     [key], {});\n",
              "          if (!dataTable) return;\n",
              "\n",
              "          const docLinkHtml = 'Like what you see? Visit the ' +\n",
              "            '<a target=\"_blank\" href=https://colab.research.google.com/notebooks/data_table.ipynb>data table notebook</a>'\n",
              "            + ' to learn more about interactive tables.';\n",
              "          element.innerHTML = '';\n",
              "          dataTable['output_type'] = 'display_data';\n",
              "          await google.colab.output.renderOutput(dataTable, element);\n",
              "          const docLink = document.createElement('div');\n",
              "          docLink.innerHTML = docLinkHtml;\n",
              "          element.appendChild(docLink);\n",
              "        }\n",
              "      </script>\n",
              "    </div>\n",
              "  </div>\n"
            ]
          },
          "metadata": {},
          "execution_count": 25
        }
      ]
    },
    {
      "cell_type": "code",
      "source": [
        "data_modelling.info()"
      ],
      "metadata": {
        "colab": {
          "base_uri": "https://localhost:8080/"
        },
        "id": "KbSqnlxAn5Cs",
        "outputId": "3ac50766-3710-4ae3-aa19-1fe01f2e21ed"
      },
      "execution_count": 26,
      "outputs": [
        {
          "output_type": "stream",
          "name": "stdout",
          "text": [
            "<class 'pandas.core.frame.DataFrame'>\n",
            "Int64Index: 9547 entries, 0 to 11149\n",
            "Data columns (total 9 columns):\n",
            " #   Column          Non-Null Count  Dtype  \n",
            "---  ------          --------------  -----  \n",
            " 0   id              9547 non-null   object \n",
            " 1   title           9547 non-null   object \n",
            " 2   likeCount       9547 non-null   float64\n",
            " 3   viewCount       9547 non-null   float64\n",
            " 4   commentCount    9547 non-null   float64\n",
            " 5   verified        9547 non-null   bool   \n",
            " 6   username        9547 non-null   object \n",
            " 7   category        9547 non-null   object \n",
            " 8   engagementRate  9547 non-null   float64\n",
            "dtypes: bool(1), float64(4), object(4)\n",
            "memory usage: 680.6+ KB\n"
          ]
        }
      ]
    },
    {
      "cell_type": "code",
      "source": [
        "data2 = data_modelling.copy()"
      ],
      "metadata": {
        "id": "FDLwNXgpoKS6"
      },
      "execution_count": 27,
      "outputs": []
    },
    {
      "cell_type": "code",
      "source": [
        "!pip install pyvi"
      ],
      "metadata": {
        "colab": {
          "base_uri": "https://localhost:8080/"
        },
        "id": "6WCNMDGEo8KH",
        "outputId": "39462652-6c4f-44c2-df17-73acc7b92f73"
      },
      "execution_count": 28,
      "outputs": [
        {
          "output_type": "stream",
          "name": "stdout",
          "text": [
            "Requirement already satisfied: pyvi in /usr/local/lib/python3.10/dist-packages (0.1.1)\n",
            "Requirement already satisfied: scikit-learn in /usr/local/lib/python3.10/dist-packages (from pyvi) (1.2.2)\n",
            "Requirement already satisfied: sklearn-crfsuite in /usr/local/lib/python3.10/dist-packages (from pyvi) (0.3.6)\n",
            "Requirement already satisfied: numpy>=1.17.3 in /usr/local/lib/python3.10/dist-packages (from scikit-learn->pyvi) (1.22.4)\n",
            "Requirement already satisfied: scipy>=1.3.2 in /usr/local/lib/python3.10/dist-packages (from scikit-learn->pyvi) (1.10.1)\n",
            "Requirement already satisfied: joblib>=1.1.1 in /usr/local/lib/python3.10/dist-packages (from scikit-learn->pyvi) (1.3.1)\n",
            "Requirement already satisfied: threadpoolctl>=2.0.0 in /usr/local/lib/python3.10/dist-packages (from scikit-learn->pyvi) (3.1.0)\n",
            "Requirement already satisfied: python-crfsuite>=0.8.3 in /usr/local/lib/python3.10/dist-packages (from sklearn-crfsuite->pyvi) (0.9.9)\n",
            "Requirement already satisfied: six in /usr/local/lib/python3.10/dist-packages (from sklearn-crfsuite->pyvi) (1.16.0)\n",
            "Requirement already satisfied: tabulate in /usr/local/lib/python3.10/dist-packages (from sklearn-crfsuite->pyvi) (0.8.10)\n",
            "Requirement already satisfied: tqdm>=2.0 in /usr/local/lib/python3.10/dist-packages (from sklearn-crfsuite->pyvi) (4.65.0)\n"
          ]
        }
      ]
    },
    {
      "cell_type": "code",
      "source": [
        "import re\n",
        "from sklearn.feature_extraction.text import TfidfVectorizer\n",
        "from pyvi import ViTokenizer\n",
        "\n",
        "# Regular expression pattern to match icons and emojis\n",
        "emoji_pattern = r\"[\\U0001F600-\\U0001F64F\\U0001F300-\\U0001F5FF\\U0001F680-\\U0001F6FF\\U0001F1E0-\\U0001F1FF\\u2600-\\u26FF\\u2700-\\u27BF]+\"\n",
        "\n",
        "def load_stopwords(file_path):\n",
        "    with open(file_path, 'r', encoding='utf-8') as file:\n",
        "        stopwords_list = file.read().splitlines()\n",
        "    return set(stopwords_list)\n",
        "\n",
        "def preprocess_text(text):\n",
        "    # Remove icons and emojis\n",
        "    text = re.sub(emoji_pattern, '', text)\n",
        "\n",
        "    # Tokenize the text using pyvi's ViTokenizer\n",
        "    words = ViTokenizer.tokenize(text).split()\n",
        "\n",
        "    # Load Vietnamese stopwords from the file \"vietnamese-stopwords.txt\"\n",
        "    vietnamese_stopwords = load_stopwords('/content/drive/MyDrive/Recommender_System/data/vietnamese-stopwords.txt')\n",
        "\n",
        "    # Remove Vietnamese stopwords\n",
        "    words = [word for word in words if word.lower() not in vietnamese_stopwords]\n",
        "\n",
        "    # Join the processed words back into a single string\n",
        "    processed_text = ' '.join(words)\n",
        "    return processed_text\n",
        "\n",
        "data2['title'] =  data2['title'].fillna('')\n",
        "data2['title'] = data2['title'].apply(preprocess_text)\n",
        "# Initialize the TF-IDF Vectorizer\n",
        "tfidf_vectorizer = TfidfVectorizer()\n",
        "\n",
        "# Compute the TF-IDF matrix\n",
        "tfidf_matrix = tfidf_vectorizer.fit_transform(data2['title'])\n",
        "\n",
        "# Now, tfidf_matrix is a sparse matrix representing the TF-IDF vectors of the preprocessed texts.\n",
        "# You can convert it to a dense matrix if needed: tfidf_matrix.toarray()\n"
      ],
      "metadata": {
        "id": "DI1wSekEn8BH"
      },
      "execution_count": 29,
      "outputs": []
    },
    {
      "cell_type": "code",
      "source": [
        "tfidf_matrix.shape"
      ],
      "metadata": {
        "colab": {
          "base_uri": "https://localhost:8080/"
        },
        "id": "bu3OmV8Wr8hO",
        "outputId": "29de16c7-fcb0-4008-dc2f-82d091dad9b0"
      },
      "execution_count": 30,
      "outputs": [
        {
          "output_type": "execute_result",
          "data": {
            "text/plain": [
              "(9547, 13212)"
            ]
          },
          "metadata": {},
          "execution_count": 30
        }
      ]
    },
    {
      "cell_type": "code",
      "source": [
        "# Import linear_kernel\n",
        "from sklearn.metrics.pairwise import linear_kernel\n",
        "\n",
        "# Compute the cosine similarity matrix\n",
        "cosine_sim = linear_kernel(tfidf_matrix, tfidf_matrix)"
      ],
      "metadata": {
        "id": "RX1pTEA4r8Sr"
      },
      "execution_count": 31,
      "outputs": []
    },
    {
      "cell_type": "code",
      "source": [
        "#Construct a reverse map of indices and movie titles\n",
        "indices = pd.Series(data_modelling.index, index=data_modelling['title']).drop_duplicates()"
      ],
      "metadata": {
        "id": "sUEAqdaXsFyj"
      },
      "execution_count": 32,
      "outputs": []
    },
    {
      "cell_type": "code",
      "source": [
        "# Function that takes in movie title as input and outputs most similar movies\n",
        "def get_recommendations(title, cosine_sim):\n",
        "    # Get the index of the movie that matches the title\n",
        "    idx = indices[title]\n",
        "\n",
        "    # Get the pairwsie similarity scores of all movies with that movie\n",
        "    sim_scores = list(enumerate(cosine_sim[idx]))\n",
        "\n",
        "    # Sort the movies based on the similarity scores\n",
        "    sim_scores = sorted(sim_scores, key=lambda x: x[1], reverse=True)\n",
        "\n",
        "    # Get the scores of the 10 most similar movies\n",
        "    sim_scores = sim_scores[1:11]\n",
        "\n",
        "    # Get the movie indices\n",
        "    movie_indices = [i[0] for i in sim_scores]\n",
        "\n",
        "    # Return the top 10 most similar movies\n",
        "    return data_modelling['title'].iloc[movie_indices]"
      ],
      "metadata": {
        "id": "0DBZIqYDsTnj"
      },
      "execution_count": 33,
      "outputs": []
    },
    {
      "cell_type": "code",
      "source": [
        "get_recommendations('Người mẹ phiền phức P2 ', cosine_sim = cosine_sim)"
      ],
      "metadata": {
        "colab": {
          "base_uri": "https://localhost:8080/"
        },
        "id": "Hd21UKTQsgrh",
        "outputId": "1df61443-f720-4f7c-bcc2-cd640ae5b8e7"
      },
      "execution_count": 34,
      "outputs": [
        {
          "output_type": "execute_result",
          "data": {
            "text/plain": [
              "3343                                           8/3 CỦA MẸ \n",
              "3788                Lần cuối mẹ bạn cho bạn ăn là khi nào?\n",
              "7675                                         cái gì vậy mẹ\n",
              "2462                          Mẹ biết mẹ buồn đó phần 2 😂😂\n",
              "2758                       Mẹ biết mẹ buồn đó phần cuối 😂😂\n",
              "4156                                     1 đồng ăn gì? p2 \n",
              "10526    mọi người biết khác ở đâu cũng đừng nói ra mẹ ...\n",
              "711                Năng lực thần kỳ của Mẹ P2 | Lê Long An\n",
              "3575     Ba Mẹ nuôi con không thiếu gì hết, chỉ thiếu B...\n",
              "6217                       SẾP NÓI BÁN XE ĐƯỢC LÀ ĐƯỢC P2 \n",
              "Name: title, dtype: object"
            ]
          },
          "metadata": {},
          "execution_count": 34
        }
      ]
    },
    {
      "cell_type": "markdown",
      "source": [
        "title, username, category Based Recommender\n",
        "It goes without saying that the quality of our recommender would be increased with the usage of better metadata. That is exactly what we are going to do in this section. We are going to build a recommender based on the following metadata: title, username, category\n",
        "\n"
      ],
      "metadata": {
        "id": "UB3_yGDizLRg"
      }
    },
    {
      "cell_type": "code",
      "source": [
        "# Function to convert all strings to lower case and strip names of spaces\n",
        "def clean_data(x):\n",
        "    if isinstance(x, list):\n",
        "        return [str.lower(i.replace(\" \", \"\")) for i in x]\n",
        "    else:\n",
        "        #Check if director exists. If not, return empty string\n",
        "        if isinstance(x, str):\n",
        "            return str.lower(x.replace(\" \", \"\"))\n",
        "        else:\n",
        "            return ''"
      ],
      "metadata": {
        "id": "Tn7GLsdix2NQ"
      },
      "execution_count": 39,
      "outputs": []
    },
    {
      "cell_type": "code",
      "source": [
        "# Apply clean_data function to your features.\n",
        "features = ['title', 'username', 'category']\n",
        "\n",
        "for feature in features:\n",
        "    data2[feature] = data2[feature].apply(clean_data)"
      ],
      "metadata": {
        "id": "hhQL5m45yYm_"
      },
      "execution_count": 41,
      "outputs": []
    },
    {
      "cell_type": "code",
      "source": [
        "def create_soup(x):\n",
        "    return ' '.join(x['title']) + ' ' + ' '.join(x['username']) + ' '.join(x['category'])\n",
        "data2['soup'] = data2.apply(create_soup, axis=1)"
      ],
      "metadata": {
        "id": "S19yVHSzynmQ"
      },
      "execution_count": 42,
      "outputs": []
    },
    {
      "cell_type": "code",
      "source": [
        "print(data2.iloc[0][['title', 'username', 'category']])\n",
        "print()\n",
        "print('Integrate all feature into one feature called \"soup\":')\n",
        "print(data2['soup'][0])"
      ],
      "metadata": {
        "colab": {
          "base_uri": "https://localhost:8080/"
        },
        "id": "uA04gYyZy1wz",
        "outputId": "4fbee49e-2752-444a-ad33-fe0320f65f08"
      },
      "execution_count": 45,
      "outputs": [
        {
          "output_type": "stream",
          "name": "stdout",
          "text": [
            "title         best_friend\n",
            "username         heroteam\n",
            "category    entertainment\n",
            "Name: 0, dtype: object\n",
            "\n",
            "Integrate all feature into one feature called \"soup\":\n",
            "b e s t _ f r i e n d h e r o t e a me n t e r t a i n m e n t\n"
          ]
        }
      ]
    },
    {
      "cell_type": "code",
      "source": [
        "# Import CountVectorizer and create the count matrix\n",
        "import re\n",
        "from sklearn.feature_extraction.text import TfidfVectorizer\n",
        "from pyvi import ViTokenizer\n",
        "\n",
        "# Regular expression pattern to match icons and emojis\n",
        "emoji_pattern = r\"[\\U0001F600-\\U0001F64F\\U0001F300-\\U0001F5FF\\U0001F680-\\U0001F6FF\\U0001F1E0-\\U0001F1FF\\u2600-\\u26FF\\u2700-\\u27BF]+\"\n",
        "\n",
        "def load_stopwords(file_path):\n",
        "    with open(file_path, 'r', encoding='utf-8') as file:\n",
        "        stopwords_list = file.read().splitlines()\n",
        "    return set(stopwords_list)\n",
        "\n",
        "def preprocess_text(text):\n",
        "    # Remove icons and emojis\n",
        "    text = re.sub(emoji_pattern, '', text)\n",
        "\n",
        "    # Tokenize the text using pyvi's ViTokenizer\n",
        "    words = ViTokenizer.tokenize(text).split()\n",
        "\n",
        "    # Load Vietnamese stopwords from the file \"vietnamese-stopwords.txt\"\n",
        "    vietnamese_stopwords = load_stopwords('/content/drive/MyDrive/Recommender_System/data/vietnamese-stopwords.txt')\n",
        "\n",
        "    # Remove Vietnamese stopwords\n",
        "    words = [word for word in words if word.lower() not in vietnamese_stopwords]\n",
        "\n",
        "    # Join the processed words back into a single string\n",
        "    processed_text = ' '.join(words)\n",
        "#     return processed_text\n",
        "\n",
        "# data2['title'] =  data2['title'].fillna('')\n",
        "# data2['title'] = data2['title'].apply(preprocess_text)\n",
        "# # Initialize the TF-IDF Vectorizer\n",
        "tfidf_vectorizer = TfidfVectorizer()\n",
        "\n",
        "# Compute the TF-IDF matrix\n",
        "tfidf_matrix = tfidf_vectorizer.fit_transform(data2['soup'])\n",
        "\n",
        "# Now, tfidf_matrix is a sparse matrix representing the TF-IDF vectors of the preprocessed texts.\n",
        "# You can convert it to a dense matrix if needed: tfidf_matrix.toarray()\n"
      ],
      "metadata": {
        "id": "9AX2m1MdzC78"
      },
      "execution_count": 48,
      "outputs": []
    },
    {
      "cell_type": "code",
      "source": [
        "# Compute the Cosine Similarity matrix based on the count_matrix\n",
        "from sklearn.metrics.pairwise import cosine_similarity\n",
        "\n",
        "cosine_sim2 = cosine_similarity(tfidf_matrix, tfidf_matrix)"
      ],
      "metadata": {
        "id": "2j6TeDjezqEI"
      },
      "execution_count": 49,
      "outputs": []
    },
    {
      "cell_type": "code",
      "source": [
        "cosine_sim2.shape"
      ],
      "metadata": {
        "colab": {
          "base_uri": "https://localhost:8080/"
        },
        "id": "B3IzfSKmztot",
        "outputId": "cd2dc83f-14e3-4f24-d83b-ce1319254b40"
      },
      "execution_count": 50,
      "outputs": [
        {
          "output_type": "execute_result",
          "data": {
            "text/plain": [
              "(9547, 9547)"
            ]
          },
          "metadata": {},
          "execution_count": 50
        }
      ]
    },
    {
      "cell_type": "code",
      "source": [
        "get_recommendations('Người mẹ phiền phức P2 ', cosine_sim2)"
      ],
      "metadata": {
        "colab": {
          "base_uri": "https://localhost:8080/"
        },
        "id": "9mlT_2UKzzXP",
        "outputId": "992107b5-2476-4a48-e9c7-66e1b05d33ad"
      },
      "execution_count": 65,
      "outputs": [
        {
          "output_type": "execute_result",
          "data": {
            "text/plain": [
              "17                              Đàn ông là như thế nào?:\n",
              "45     Khi Tui Thử 1 Ngày Toàn Ăn Bí Sợi Mì Lạ Lùng …...\n",
              "291                Among Us in HD (Part 39) OH NO NO NO \n",
              "406    Khi Tui Gội Đầu Dưỡng Sinh Kiểu Độc Lạ Bình Dư...\n",
              "500    Thử Troll Đứa Bạn Bằng Phô Mai Thúi Và Cái Kết...\n",
              "549    Thử Thách Ăn Phô Mai THÚI NHẤT THẾ GIỚI Và Cái...\n",
              "608                   Thế giới các loài Cute - Phần 3 😍🥰\n",
              "779     Những video ấn tượng trên Internet - Phần 16 🤯💯 \n",
              "867       Những video ấn tượng trên Internet - Phần 7 🤯💯\n",
              "893                   Fishing for ducks with monster 👻😄 \n",
              "Name: title, dtype: object"
            ]
          },
          "metadata": {},
          "execution_count": 65
        }
      ]
    },
    {
      "cell_type": "code",
      "source": [
        "data1[data1['title'] == 'Người mẹ phiền phức P2 ']['video'].values"
      ],
      "metadata": {
        "colab": {
          "base_uri": "https://localhost:8080/"
        },
        "id": "EazON2pTz9B4",
        "outputId": "88a6a00f-0644-4a9e-cd41-231af7b874f5"
      },
      "execution_count": 59,
      "outputs": [
        {
          "output_type": "execute_result",
          "data": {
            "text/plain": [
              "array([list([{'link': 'https://www.youtube.com/watch?v=itmQmrECkvc', 'thumbnail': 'https://i.ytimg.com/vi/itmQmrECkvc/hq2.jpg'}])],\n",
              "      dtype=object)"
            ]
          },
          "metadata": {},
          "execution_count": 59
        }
      ]
    },
    {
      "cell_type": "code",
      "source": [
        "data1[data1['title'] == 'Đàn ông là như thế nào?:']['video'].values"
      ],
      "metadata": {
        "colab": {
          "base_uri": "https://localhost:8080/"
        },
        "id": "bS3Loze00YQV",
        "outputId": "7d81a295-3b90-423d-e20b-1fa8b9110cec"
      },
      "execution_count": 66,
      "outputs": [
        {
          "output_type": "execute_result",
          "data": {
            "text/plain": [
              "array([list([{'link': 'https://www.youtube.com/watch?v=7OHE8qnDums', 'thumbnail': 'https://i.ytimg.com/vi/7OHE8qnDums/hq2.jpg'}])],\n",
              "      dtype=object)"
            ]
          },
          "metadata": {},
          "execution_count": 66
        }
      ]
    }
  ]
}